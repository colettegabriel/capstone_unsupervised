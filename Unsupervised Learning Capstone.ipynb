{
 "cells": [
  {
   "cell_type": "markdown",
   "metadata": {},
   "source": [
    "# Unsupervised Learning Capstone\n",
    "<br>\n",
    "Colette Gabriel"
   ]
  },
  {
   "cell_type": "markdown",
   "metadata": {},
   "source": [
    "## Table of Contents:\n",
    "* [Introduction to the Dataset](#data)\n",
    "* [Clustering attempts using TF-IDF vectorization](#tfidf)\n",
    "    - [KNeighbors](#kneigh)\n",
    "    - [KNN (k++)](#knn)\n",
    "    - [Affinity Propagation](#aff)\n",
    "    - [DB Scan](#db)    \n",
    "* [Clustering attempts using HashingVectorizer](#hash)\n",
    "    - [MiniBatchMeans](#mini)\n",
    "    - [Affinity Propagation](#aff2)    \n",
    "    - [KNN (k++)](#knn2) "
   ]
  },
  {
   "cell_type": "markdown",
   "metadata": {},
   "source": [
    "## Introduction to the Dataset  <a name=\"data\"></a>\n",
    "<br>\n",
    "The dataset used in this project contains more than 10,000 hotel reviews, consisting of review text plus star rating, plus geographical information for each review. The goal is to use this corpus for sentiment analysis, predicting customer ratings based on text clustering, so I dropped all data except for the review header, review text, and rating columns.\n",
    "<br><br>\n",
    "The original data for this project can be downloaded here: \n",
    "<br>\n",
    "Hotel Reviews<br>\n",
    "https://www.kaggle.com/datafiniti/hotel-reviews/downloads/hotel-reviews.zip/5"
   ]
  },
  {
   "cell_type": "code",
   "execution_count": 253,
   "metadata": {},
   "outputs": [
    {
     "ename": "SyntaxError",
     "evalue": "invalid syntax (<ipython-input-253-bcc92e9194b1>, line 32)",
     "output_type": "error",
     "traceback": [
      "\u001b[0;36m  File \u001b[0;32m\"<ipython-input-253-bcc92e9194b1>\"\u001b[0;36m, line \u001b[0;32m32\u001b[0m\n\u001b[0;31m    >> from sklearn.metrics import pairwise_distances\u001b[0m\n\u001b[0m     ^\u001b[0m\n\u001b[0;31mSyntaxError\u001b[0m\u001b[0;31m:\u001b[0m invalid syntax\n"
     ]
    }
   ],
   "source": [
    "import glob\n",
    "import os\n",
    "import numpy as np\n",
    "import pandas as pd\n",
    "import re\n",
    "import string\n",
    "import time\n",
    "import unicodedata\n",
    "import matplotlib.pyplot as plt\n",
    "import seaborn as sns\n",
    "from contractions import CONTRACTION_MAP\n",
    "from collections import Counter\n",
    "\n",
    "#NLP libraries\n",
    "import nltk\n",
    "import spacy\n",
    "from nltk.stem.wordnet import WordNetLemmatizer\n",
    "from nltk.corpus import stopwords\n",
    "from nltk.corpus import wordnet\n",
    "from textblob import TextBlob\n",
    "#from nltk.tokenize.toktok import ToktokTokenizer\n",
    "from textblob import Word\n",
    "\n",
    "from sklearn.feature_extraction.text import CountVectorizer\n",
    "from sklearn.feature_extraction.text import TfidfTransformer\n",
    "from sklearn.feature_extraction.text import TfidfVectorizer\n",
    "from sklearn.feature_extraction.text import HashingVectorizer\n",
    "from sklearn.pipeline import make_pipeline\n",
    "from sklearn.preprocessing import Normalizer\n",
    "import sklearn.cluster as cluster\n",
    "from sklearn.metrics.pairwise import cosine_similarity\n",
    ">> from sklearn.metrics import pairwise_distances\n",
    "from sklearn.decomposition import TruncatedSVD\n",
    "from sklearn.cluster import DBSCAN\n",
    "from sklearn import preprocessing\n",
    "from sklearn.model_selection import train_test_split\n",
    "from sklearn.neighbors import KNeighborsClassifier\n",
    "from sklearn import metrics\n",
    "from sklearn.cluster import DBSCAN\n",
    "from sklearn.cluster import KMeans, MiniBatchKMeans\n",
    "from sklearn.cluster import AffinityPropagation\n",
    "from sklearn.feature_extraction import text"
   ]
  },
  {
   "cell_type": "code",
   "execution_count": 183,
   "metadata": {},
   "outputs": [],
   "source": [
    "stop = set(stopwords.words('english'))\n",
    "exclude = set(string.punctuation)\n",
    "lemma = WordNetLemmatizer()\n",
    "nlp = spacy.load('en_core_web_sm', parse=True, tag=True, entity=True)\n",
    "\n",
    "\n",
    "def tokenize_text(text):\n",
    "    sentences = nltk.sent_tokenize(text)\n",
    "    word_tokens = [nltk.word_tokenize(sentence) for sentence in sentences]\n",
    "    return word_tokens\n",
    "\n",
    "\n",
    "def remove_accented_chars(text):\n",
    "    text = unicodedata.normalize('NFKD', text).encode('ascii', 'ignore').decode('utf-8', 'ignore')\n",
    "    return text\n",
    "\n",
    "\n",
    "def expand_contractions(text, contraction_mapping=CONTRACTION_MAP):\n",
    "    contractions_pattern = re.compile('({})'.format('|'.join(contraction_mapping.keys())), \\\n",
    "                                      flags=re.IGNORECASE|re.DOTALL)\n",
    "    def expand_match(contraction):\n",
    "        match = contraction.group(0)\n",
    "        first_char = match[0]\n",
    "        expanded_contraction = contraction_mapping.get(match)\\\n",
    "                                if contraction_mapping.get(match)\\\n",
    "                                else contraction_mapping.get(match.lower())\n",
    "        expanded_contraction = first_char+expanded_contraction[1:]\n",
    "        return expanded_contraction\n",
    "    expanded_text = contractions_pattern.sub(expand_match, text)\n",
    "    expanded_text = re.sub(\"'\", \"\", expanded_text)\n",
    "    return expanded_text\n",
    "\n",
    "\n",
    "def remove_special_characters(text, remove_digits=False):\n",
    "    pattern = r'[^a-zA-z0-9\\s]' if not remove_digits else r'[^a-zA-z\\s]'\n",
    "    text = re.sub(pattern, '', text)\n",
    "    return text\n",
    "\n",
    "\n",
    "def tokens(text):\n",
    "    \"\"\"get all words from the reviews\"\"\"\n",
    "    return re.findall('[a-z]+', text.lower())\n",
    " \n",
    "\n",
    "def tokenize_spacy(text):\n",
    "    text_spacy = nlp(text)\n",
    "  #  sents = np.array(list(text_spacy.sents))\n",
    "  #  sent_words = [[word.text for word in sent] for sent in sents]\n",
    "    words = [word.text for word in text_spacy]\n",
    "    return words\n",
    "    \n",
    "    \n",
    "def clean(text):\n",
    "    \"\"\"process the reviews to remove stopwords and punctuation, then perform lemmatization on words\"\"\"\n",
    "#    tokenizer = ToktokTokenizer()\n",
    "    \n",
    "    stop_free = \" \".join([i for i in text.lower().split() if i not in stop])\n",
    "    punc_free = ''.join(ch for ch in stop_free if ch not in exclude)\n",
    "    normalized = \" \".join(lemma.lemmatize(word) for word in punc_free.split())\n",
    "    processed = re.sub(r\"\\d+\",\"\",normalized)\n",
    "    un_acc = remove_accented_chars(normalized)\n",
    "    contr = expand_contractions(un_acc)\n",
    "    spec = remove_special_characters(contr)\n",
    "    blob = TextBlob(spec)\n",
    "    corr = blob.correct() \n",
    "#    final = tokenize_text(corr)\n",
    "   # final = corr.words\n",
    "    final_string = str(corr)\n",
    "    final = tokenize_spacy(final_string)\n",
    "    final = ' '.join(str(f) for f in final)\n",
    "    return final\n",
    "\n",
    "#def tokenize(text):\n",
    "#    return [stemmer.stem(word) for word in tokenizer.tokenize(text.lower())]"
   ]
  },
  {
   "cell_type": "code",
   "execution_count": 3,
   "metadata": {
    "scrolled": true
   },
   "outputs": [
    {
     "data": {
      "text/html": [
       "<div>\n",
       "<style scoped>\n",
       "    .dataframe tbody tr th:only-of-type {\n",
       "        vertical-align: middle;\n",
       "    }\n",
       "\n",
       "    .dataframe tbody tr th {\n",
       "        vertical-align: top;\n",
       "    }\n",
       "\n",
       "    .dataframe thead th {\n",
       "        text-align: right;\n",
       "    }\n",
       "</style>\n",
       "<table border=\"1\" class=\"dataframe\">\n",
       "  <thead>\n",
       "    <tr style=\"text-align: right;\">\n",
       "      <th></th>\n",
       "      <th>id</th>\n",
       "      <th>dateAdded</th>\n",
       "      <th>dateUpdated</th>\n",
       "      <th>address</th>\n",
       "      <th>categories</th>\n",
       "      <th>primaryCategories</th>\n",
       "      <th>city</th>\n",
       "      <th>country</th>\n",
       "      <th>keys</th>\n",
       "      <th>latitude</th>\n",
       "      <th>...</th>\n",
       "      <th>reviews.dateSeen</th>\n",
       "      <th>reviews.rating</th>\n",
       "      <th>reviews.sourceURLs</th>\n",
       "      <th>reviews.text</th>\n",
       "      <th>reviews.title</th>\n",
       "      <th>reviews.userCity</th>\n",
       "      <th>reviews.userProvince</th>\n",
       "      <th>reviews.username</th>\n",
       "      <th>sourceURLs</th>\n",
       "      <th>websites</th>\n",
       "    </tr>\n",
       "  </thead>\n",
       "  <tbody>\n",
       "    <tr>\n",
       "      <td>0</td>\n",
       "      <td>AVwc252WIN2L1WUfpqLP</td>\n",
       "      <td>2016-10-30T21:42:42Z</td>\n",
       "      <td>2018-09-10T21:06:27Z</td>\n",
       "      <td>5921 Valencia Cir</td>\n",
       "      <td>Hotels,Hotels and motels,Hotel and motel reser...</td>\n",
       "      <td>Accommodation &amp; Food Services</td>\n",
       "      <td>Rancho Santa Fe</td>\n",
       "      <td>US</td>\n",
       "      <td>us/ca/ranchosantafe/5921valenciacir/359754519</td>\n",
       "      <td>32.990959</td>\n",
       "      <td>...</td>\n",
       "      <td>2016-08-03T00:00:00Z,2016-07-26T00:00:00Z,2016...</td>\n",
       "      <td>5.0</td>\n",
       "      <td>https://www.hotels.com/hotel/125419/reviews%20/</td>\n",
       "      <td>Our experience at Rancho Valencia was absolute...</td>\n",
       "      <td>Best romantic vacation ever!!!!</td>\n",
       "      <td>NaN</td>\n",
       "      <td>NaN</td>\n",
       "      <td>Paula</td>\n",
       "      <td>http://www.hotels.com/ho125419/%25252525253Flo...</td>\n",
       "      <td>http://www.ranchovalencia.com</td>\n",
       "    </tr>\n",
       "    <tr>\n",
       "      <td>1</td>\n",
       "      <td>AVwc252WIN2L1WUfpqLP</td>\n",
       "      <td>2016-10-30T21:42:42Z</td>\n",
       "      <td>2018-09-10T21:06:27Z</td>\n",
       "      <td>5921 Valencia Cir</td>\n",
       "      <td>Hotels,Hotels and motels,Hotel and motel reser...</td>\n",
       "      <td>Accommodation &amp; Food Services</td>\n",
       "      <td>Rancho Santa Fe</td>\n",
       "      <td>US</td>\n",
       "      <td>us/ca/ranchosantafe/5921valenciacir/359754519</td>\n",
       "      <td>32.990959</td>\n",
       "      <td>...</td>\n",
       "      <td>2016-08-02T00:00:00Z,2016-08-26T00:00:00Z,2016...</td>\n",
       "      <td>5.0</td>\n",
       "      <td>https://www.hotels.com/hotel/125419/reviews%20/</td>\n",
       "      <td>Amazing place. Everyone was extremely warm and...</td>\n",
       "      <td>Sweet sweet serenity</td>\n",
       "      <td>NaN</td>\n",
       "      <td>NaN</td>\n",
       "      <td>D</td>\n",
       "      <td>http://www.hotels.com/ho125419/%25252525253Flo...</td>\n",
       "      <td>http://www.ranchovalencia.com</td>\n",
       "    </tr>\n",
       "    <tr>\n",
       "      <td>2</td>\n",
       "      <td>AVwc252WIN2L1WUfpqLP</td>\n",
       "      <td>2016-10-30T21:42:42Z</td>\n",
       "      <td>2018-09-10T21:06:27Z</td>\n",
       "      <td>5921 Valencia Cir</td>\n",
       "      <td>Hotels,Hotels and motels,Hotel and motel reser...</td>\n",
       "      <td>Accommodation &amp; Food Services</td>\n",
       "      <td>Rancho Santa Fe</td>\n",
       "      <td>US</td>\n",
       "      <td>us/ca/ranchosantafe/5921valenciacir/359754519</td>\n",
       "      <td>32.990959</td>\n",
       "      <td>...</td>\n",
       "      <td>2016-11-15T00:00:00Z,2016-08-23T00:00:00Z,2016...</td>\n",
       "      <td>5.0</td>\n",
       "      <td>https://www.hotels.com/hotel/125419/reviews%20/</td>\n",
       "      <td>We booked a 3 night stay at Rancho Valencia to...</td>\n",
       "      <td>Amazing Property and Experience</td>\n",
       "      <td>NaN</td>\n",
       "      <td>NaN</td>\n",
       "      <td>Ron</td>\n",
       "      <td>http://www.hotels.com/ho125419/%25252525253Flo...</td>\n",
       "      <td>http://www.ranchovalencia.com</td>\n",
       "    </tr>\n",
       "    <tr>\n",
       "      <td>3</td>\n",
       "      <td>AVwdOclqIN2L1WUfti38</td>\n",
       "      <td>2015-11-28T19:19:35Z</td>\n",
       "      <td>2018-09-10T21:06:16Z</td>\n",
       "      <td>7520 Teague Rd</td>\n",
       "      <td>Hotels,Hotels and motels,Travel agencies and b...</td>\n",
       "      <td>Accommodation &amp; Food Services</td>\n",
       "      <td>Hanover</td>\n",
       "      <td>US</td>\n",
       "      <td>us/md/hanover/7520teaguerd/-2043779672</td>\n",
       "      <td>39.155929</td>\n",
       "      <td>...</td>\n",
       "      <td>2016-05-21T00:00:00Z,2016-07-31T00:00:00Z</td>\n",
       "      <td>2.0</td>\n",
       "      <td>https://www.tripadvisor.com/Hotel_Review-g4118...</td>\n",
       "      <td>Currently in bed writing this for the past hr ...</td>\n",
       "      <td>Never again...beware, if you want sleep.</td>\n",
       "      <td>Richmond</td>\n",
       "      <td>VA</td>\n",
       "      <td>jaeem2016</td>\n",
       "      <td>http://www.yellowbook.com/profile/aloft-arunde...</td>\n",
       "      <td>http://www.starwoodhotels.com/alofthotels/prop...</td>\n",
       "    </tr>\n",
       "    <tr>\n",
       "      <td>4</td>\n",
       "      <td>AVwdOclqIN2L1WUfti38</td>\n",
       "      <td>2015-11-28T19:19:35Z</td>\n",
       "      <td>2018-09-10T21:06:16Z</td>\n",
       "      <td>7520 Teague Rd</td>\n",
       "      <td>Hotels,Hotels and motels,Travel agencies and b...</td>\n",
       "      <td>Accommodation &amp; Food Services</td>\n",
       "      <td>Hanover</td>\n",
       "      <td>US</td>\n",
       "      <td>us/md/hanover/7520teaguerd/-2043779672</td>\n",
       "      <td>39.155929</td>\n",
       "      <td>...</td>\n",
       "      <td>2016-07-31T00:00:00Z</td>\n",
       "      <td>5.0</td>\n",
       "      <td>https://www.tripadvisor.com/Hotel_Review-g4118...</td>\n",
       "      <td>I live in Md and the Aloft is my Home away fro...</td>\n",
       "      <td>ALWAYS GREAT STAY...</td>\n",
       "      <td>Laurel</td>\n",
       "      <td>MD</td>\n",
       "      <td>MamaNiaOne</td>\n",
       "      <td>http://www.yellowbook.com/profile/aloft-arunde...</td>\n",
       "      <td>http://www.starwoodhotels.com/alofthotels/prop...</td>\n",
       "    </tr>\n",
       "  </tbody>\n",
       "</table>\n",
       "<p>5 rows × 25 columns</p>\n",
       "</div>"
      ],
      "text/plain": [
       "                     id             dateAdded           dateUpdated  \\\n",
       "0  AVwc252WIN2L1WUfpqLP  2016-10-30T21:42:42Z  2018-09-10T21:06:27Z   \n",
       "1  AVwc252WIN2L1WUfpqLP  2016-10-30T21:42:42Z  2018-09-10T21:06:27Z   \n",
       "2  AVwc252WIN2L1WUfpqLP  2016-10-30T21:42:42Z  2018-09-10T21:06:27Z   \n",
       "3  AVwdOclqIN2L1WUfti38  2015-11-28T19:19:35Z  2018-09-10T21:06:16Z   \n",
       "4  AVwdOclqIN2L1WUfti38  2015-11-28T19:19:35Z  2018-09-10T21:06:16Z   \n",
       "\n",
       "             address                                         categories  \\\n",
       "0  5921 Valencia Cir  Hotels,Hotels and motels,Hotel and motel reser...   \n",
       "1  5921 Valencia Cir  Hotels,Hotels and motels,Hotel and motel reser...   \n",
       "2  5921 Valencia Cir  Hotels,Hotels and motels,Hotel and motel reser...   \n",
       "3     7520 Teague Rd  Hotels,Hotels and motels,Travel agencies and b...   \n",
       "4     7520 Teague Rd  Hotels,Hotels and motels,Travel agencies and b...   \n",
       "\n",
       "               primaryCategories             city country  \\\n",
       "0  Accommodation & Food Services  Rancho Santa Fe      US   \n",
       "1  Accommodation & Food Services  Rancho Santa Fe      US   \n",
       "2  Accommodation & Food Services  Rancho Santa Fe      US   \n",
       "3  Accommodation & Food Services          Hanover      US   \n",
       "4  Accommodation & Food Services          Hanover      US   \n",
       "\n",
       "                                            keys   latitude  ...  \\\n",
       "0  us/ca/ranchosantafe/5921valenciacir/359754519  32.990959  ...   \n",
       "1  us/ca/ranchosantafe/5921valenciacir/359754519  32.990959  ...   \n",
       "2  us/ca/ranchosantafe/5921valenciacir/359754519  32.990959  ...   \n",
       "3         us/md/hanover/7520teaguerd/-2043779672  39.155929  ...   \n",
       "4         us/md/hanover/7520teaguerd/-2043779672  39.155929  ...   \n",
       "\n",
       "                                    reviews.dateSeen reviews.rating  \\\n",
       "0  2016-08-03T00:00:00Z,2016-07-26T00:00:00Z,2016...            5.0   \n",
       "1  2016-08-02T00:00:00Z,2016-08-26T00:00:00Z,2016...            5.0   \n",
       "2  2016-11-15T00:00:00Z,2016-08-23T00:00:00Z,2016...            5.0   \n",
       "3          2016-05-21T00:00:00Z,2016-07-31T00:00:00Z            2.0   \n",
       "4                               2016-07-31T00:00:00Z            5.0   \n",
       "\n",
       "                                  reviews.sourceURLs  \\\n",
       "0    https://www.hotels.com/hotel/125419/reviews%20/   \n",
       "1    https://www.hotels.com/hotel/125419/reviews%20/   \n",
       "2    https://www.hotels.com/hotel/125419/reviews%20/   \n",
       "3  https://www.tripadvisor.com/Hotel_Review-g4118...   \n",
       "4  https://www.tripadvisor.com/Hotel_Review-g4118...   \n",
       "\n",
       "                                        reviews.text  \\\n",
       "0  Our experience at Rancho Valencia was absolute...   \n",
       "1  Amazing place. Everyone was extremely warm and...   \n",
       "2  We booked a 3 night stay at Rancho Valencia to...   \n",
       "3  Currently in bed writing this for the past hr ...   \n",
       "4  I live in Md and the Aloft is my Home away fro...   \n",
       "\n",
       "                              reviews.title reviews.userCity  \\\n",
       "0           Best romantic vacation ever!!!!              NaN   \n",
       "1                      Sweet sweet serenity              NaN   \n",
       "2           Amazing Property and Experience              NaN   \n",
       "3  Never again...beware, if you want sleep.         Richmond   \n",
       "4                      ALWAYS GREAT STAY...           Laurel   \n",
       "\n",
       "   reviews.userProvince reviews.username  \\\n",
       "0                   NaN            Paula   \n",
       "1                   NaN                D   \n",
       "2                   NaN              Ron   \n",
       "3                    VA        jaeem2016   \n",
       "4                    MD       MamaNiaOne   \n",
       "\n",
       "                                          sourceURLs  \\\n",
       "0  http://www.hotels.com/ho125419/%25252525253Flo...   \n",
       "1  http://www.hotels.com/ho125419/%25252525253Flo...   \n",
       "2  http://www.hotels.com/ho125419/%25252525253Flo...   \n",
       "3  http://www.yellowbook.com/profile/aloft-arunde...   \n",
       "4  http://www.yellowbook.com/profile/aloft-arunde...   \n",
       "\n",
       "                                            websites  \n",
       "0                      http://www.ranchovalencia.com  \n",
       "1                      http://www.ranchovalencia.com  \n",
       "2                      http://www.ranchovalencia.com  \n",
       "3  http://www.starwoodhotels.com/alofthotels/prop...  \n",
       "4  http://www.starwoodhotels.com/alofthotels/prop...  \n",
       "\n",
       "[5 rows x 25 columns]"
      ]
     },
     "execution_count": 3,
     "metadata": {},
     "output_type": "execute_result"
    }
   ],
   "source": [
    "reviews_df = pd.read_csv('/Users/colette/Documents/GitHub/hotel-reviews/Datafiniti_Hotel_Reviews.csv')\n",
    "reviews_df.head(5)"
   ]
  },
  {
   "cell_type": "code",
   "execution_count": 4,
   "metadata": {},
   "outputs": [],
   "source": [
    "reviews_df = reviews_df[['id', 'reviews.text', 'reviews.title', 'reviews.rating']]"
   ]
  },
  {
   "cell_type": "code",
   "execution_count": 5,
   "metadata": {},
   "outputs": [],
   "source": [
    "#reformat column names to remove the \".\"\n",
    "reviews_df = reviews_df.rename(columns={'reviews.text': 'reviews_text'})\n",
    "reviews_df = reviews_df.rename(columns={'reviews.title': 'reviews_title'})\n",
    "reviews_df = reviews_df.rename(columns={'reviews.rating': 'reviews_rating'})"
   ]
  },
  {
   "cell_type": "code",
   "execution_count": 6,
   "metadata": {},
   "outputs": [
    {
     "data": {
      "text/html": [
       "<div>\n",
       "<style scoped>\n",
       "    .dataframe tbody tr th:only-of-type {\n",
       "        vertical-align: middle;\n",
       "    }\n",
       "\n",
       "    .dataframe tbody tr th {\n",
       "        vertical-align: top;\n",
       "    }\n",
       "\n",
       "    .dataframe thead th {\n",
       "        text-align: right;\n",
       "    }\n",
       "</style>\n",
       "<table border=\"1\" class=\"dataframe\">\n",
       "  <thead>\n",
       "    <tr style=\"text-align: right;\">\n",
       "      <th></th>\n",
       "      <th>Total</th>\n",
       "      <th>Percent</th>\n",
       "    </tr>\n",
       "  </thead>\n",
       "  <tbody>\n",
       "    <tr>\n",
       "      <td>reviews_title</td>\n",
       "      <td>1</td>\n",
       "      <td>0.0001</td>\n",
       "    </tr>\n",
       "    <tr>\n",
       "      <td>reviews_text</td>\n",
       "      <td>1</td>\n",
       "      <td>0.0001</td>\n",
       "    </tr>\n",
       "    <tr>\n",
       "      <td>reviews_rating</td>\n",
       "      <td>0</td>\n",
       "      <td>0.0000</td>\n",
       "    </tr>\n",
       "    <tr>\n",
       "      <td>id</td>\n",
       "      <td>0</td>\n",
       "      <td>0.0000</td>\n",
       "    </tr>\n",
       "  </tbody>\n",
       "</table>\n",
       "</div>"
      ],
      "text/plain": [
       "                Total  Percent\n",
       "reviews_title       1   0.0001\n",
       "reviews_text        1   0.0001\n",
       "reviews_rating      0   0.0000\n",
       "id                  0   0.0000"
      ]
     },
     "execution_count": 6,
     "metadata": {},
     "output_type": "execute_result"
    }
   ],
   "source": [
    "#check for missing data\n",
    "reviews_df.isnull().sum()*100/reviews_df.isnull().count()\n",
    "\n",
    "total_missing = reviews_df.isnull().sum().sort_values(ascending=False)\n",
    "percent_missing = (reviews_df.isnull().sum()/reviews_df.isnull().count()).sort_values(ascending=False)\n",
    "missing_data = pd.concat([total_missing, percent_missing], axis=1, keys=['Total', 'Percent'])\n",
    "missing_data.head(20)"
   ]
  },
  {
   "cell_type": "code",
   "execution_count": 7,
   "metadata": {},
   "outputs": [
    {
     "data": {
      "text/plain": [
       "id                0.00\n",
       "reviews_text      0.01\n",
       "reviews_title     0.01\n",
       "reviews_rating    0.00\n",
       "dtype: float64"
      ]
     },
     "execution_count": 7,
     "metadata": {},
     "output_type": "execute_result"
    }
   ],
   "source": [
    "reviews_df.isnull().sum()*100/reviews_df.isnull().count()"
   ]
  },
  {
   "cell_type": "code",
   "execution_count": 8,
   "metadata": {},
   "outputs": [],
   "source": [
    "#number of rows with missing data is small, so drop them\n",
    "reviews_df = reviews_df.dropna(subset=['reviews_text'])\n",
    "reviews_df = reviews_df.dropna(subset=['reviews_title'])\n",
    "reviews_df = reviews_df.dropna(subset=['reviews_rating'])"
   ]
  },
  {
   "cell_type": "code",
   "execution_count": 9,
   "metadata": {},
   "outputs": [],
   "source": [
    "#create bins for each 1/2 point between ratings, resulting in 9 categories to cluster\n",
    "reviews_df['rating_bin'] = pd.cut(x=reviews_df['reviews_rating'], bins=[0, 1, 1.5, 2, 2.5, 3, 3.5, 4, 4.5, 5])"
   ]
  },
  {
   "cell_type": "code",
   "execution_count": 10,
   "metadata": {},
   "outputs": [
    {
     "data": {
      "text/plain": [
       "[(4.5, 5.0], (1.5, 2.0], (3.5, 4.0], (2.5, 3.0], (0.0, 1.0], (4.0, 4.5], (2.0, 2.5], (3.0, 3.5], (1.0, 1.5]]\n",
       "Categories (9, interval[float64]): [(0.0, 1.0] < (1.0, 1.5] < (1.5, 2.0] < (2.0, 2.5] ... (3.0, 3.5] < (3.5, 4.0] < (4.0, 4.5] < (4.5, 5.0]]"
      ]
     },
     "execution_count": 10,
     "metadata": {},
     "output_type": "execute_result"
    }
   ],
   "source": [
    "reviews_df['rating_bin'].unique()"
   ]
  },
  {
   "cell_type": "code",
   "execution_count": 184,
   "metadata": {
    "scrolled": true
   },
   "outputs": [
    {
     "name": "stdout",
     "output_type": "stream",
     "text": [
      "--- 4347.58 seconds ---\n"
     ]
    }
   ],
   "source": [
    "#run all reviews through the clean text function\n",
    "start_time = time.time()\n",
    "\n",
    "reviews_df['reviews_clean2'] = reviews_df['reviews_text'].apply(lambda x:clean(x))\n",
    "reviews_df['reviews_clean_title2'] = reviews_df['reviews_title'].apply(lambda x:clean(x))\n",
    "\n",
    "#join review text + title text into one bag of words for clustering analysis\n",
    "reviews_df['clean2'] = reviews_df['reviews_clean'] + ' ' + reviews_df['reviews_clean_title']\n",
    "\n",
    "#reviews_df['clean'] = reviews_df['clean'].apply(lambda x:tokenize_text(x))\n",
    "print(\"--- {} seconds ---\".format(round(time.time() - start_time, 2)))"
   ]
  },
  {
   "cell_type": "code",
   "execution_count": 192,
   "metadata": {},
   "outputs": [
    {
     "name": "stdout",
     "output_type": "stream",
     "text": [
      "<class 'pandas.core.frame.DataFrame'>\n",
      "Int64Index: 9998 entries, 0 to 9999\n",
      "Data columns (total 13 columns):\n",
      "id                      9998 non-null object\n",
      "reviews_text            9998 non-null object\n",
      "reviews_title           9998 non-null object\n",
      "reviews_rating          9998 non-null float64\n",
      "rating_bin              9998 non-null category\n",
      "reviews_clean           9998 non-null object\n",
      "reviews_clean_title     9998 non-null object\n",
      "clean                   9998 non-null object\n",
      "kmeans_cluster          9998 non-null int32\n",
      "affprop_cluster         9998 non-null int64\n",
      "reviews_clean2          9998 non-null object\n",
      "reviews_clean_title2    9998 non-null object\n",
      "clean2                  9998 non-null object\n",
      "dtypes: category(1), float64(1), int32(1), int64(1), object(9)\n",
      "memory usage: 1.3+ MB\n"
     ]
    }
   ],
   "source": [
    "#clean is a combined field of reviews text and title cleaned and tokenized with TextBlob Word\n",
    "#clean2 is a combined field of reviews text and title cleaned and tokenized with Spacy\n",
    "\n",
    "#in both cases, the vector field was reduced from 22,000+ to < 5,100 through spell check and other cleaning methods\n",
    "reviews_df.info()"
   ]
  },
  {
   "cell_type": "code",
   "execution_count": 185,
   "metadata": {},
   "outputs": [
    {
     "data": {
      "text/plain": [
       "'bad room size good location'"
      ]
     },
     "execution_count": 185,
     "metadata": {},
     "output_type": "execute_result"
    }
   ],
   "source": [
    "reviews_df['reviews_clean2'][455]"
   ]
  },
  {
   "cell_type": "markdown",
   "metadata": {},
   "source": [
    "## Clustering attempts using TF-IDF vectorization <a name=\"tfidf\"></a>"
   ]
  },
  {
   "cell_type": "code",
   "execution_count": 197,
   "metadata": {
    "scrolled": false
   },
   "outputs": [
    {
     "name": "stdout",
     "output_type": "stream",
     "text": [
      "The number of observations in training set is 6698\n",
      "The number of observations in test set is 3300\n",
      "Shape of Term Frequency Matrix: (9998, 5488)\n",
      "Shape of TFIDF Matrix: (9998, 5488)\n",
      "Shape of y: (6698,)\n"
     ]
    }
   ],
   "source": [
    "count_vect = CountVectorizer(ngram_range=(1, 3), min_df=10, max_df=0.8, stop_words='english')\n",
    "transformer = TfidfTransformer()\n",
    "le = preprocessing.LabelEncoder()\n",
    "\n",
    "\n",
    "X = reviews_df['clean2']\n",
    "y = le.fit_transform(reviews_df['rating_bin']) #label encoding on the 9 binned categories\n",
    "\n",
    "X_counts = count_vect.fit_transform(X)\n",
    "X = transformer.fit_transform(X_counts)\n",
    "\n",
    "X_train, X_test, y_train, y_test = train_test_split(X, y, test_size=0.33, random_state=42)\n",
    "\n",
    "print(\"The number of observations in training set is {}\".format(X_train.shape[0]))\n",
    "print(\"The number of observations in test set is {}\".format(X_test.shape[0]))\n",
    "print(f'Shape of Term Frequency Matrix: {X_counts.shape}')\n",
    "print(f'Shape of TFIDF Matrix: {X.shape}')\n",
    "print(f'Shape of y: {y_train.shape}')"
   ]
  },
  {
   "cell_type": "code",
   "execution_count": 40,
   "metadata": {},
   "outputs": [
    {
     "data": {
      "image/png": "[encoded data removed]",
      "text/plain": [
       "<Figure size 432x288 with 1 Axes>"
      ]
     },
     "metadata": {
      "needs_background": "light"
     },
     "output_type": "display_data"
    },
    {
     "name": "stdout",
     "output_type": "stream",
     "text": [
      "--- 597.04 seconds ---\n"
     ]
    }
   ],
   "source": [
    "start_time = time.time()\n",
    "\n",
    "wcss = []\n",
    "for i in range(1,11):\n",
    "    kmeans = KMeans(n_clusters=i,init='k-means++',max_iter=100,n_init=10,random_state=0)\n",
    "    kmeans.fit(X_train)\n",
    "    wcss.append(kmeans.inertia_)\n",
    "        \n",
    "plt.plot(range(1,11),wcss)\n",
    "plt.title('The Elbow Method')\n",
    "plt.xlabel('Number of clusters')\n",
    "plt.ylabel('WCSS')\n",
    "plt.savefig('elbow.png')\n",
    "plt.show()\n",
    "\n",
    "print(\"--- {} seconds ---\".format(round(time.time() - start_time, 2)))"
   ]
  },
  {
   "cell_type": "markdown",
   "metadata": {},
   "source": [
    "### KNeighbors <a name=\"kneigh\"></a>"
   ]
  },
  {
   "cell_type": "code",
   "execution_count": 199,
   "metadata": {
    "scrolled": false
   },
   "outputs": [
    {
     "name": "stdout",
     "output_type": "stream",
     "text": [
      "number of clusters = 2, accuracy = 0.5015151515151515\n",
      "Silhouette Coefficient: -0.003967271846686156\n",
      "number of clusters = 3, accuracy = 0.5015151515151515\n",
      "Silhouette Coefficient: -0.003967271846686156\n",
      "number of clusters = 4, accuracy = 0.5015151515151515\n",
      "Silhouette Coefficient: -0.003967271846686156\n",
      "number of clusters = 5, accuracy = 0.5015151515151515\n",
      "Silhouette Coefficient: -0.003967271846686156\n",
      "number of clusters = 6, accuracy = 0.5015151515151515\n",
      "Silhouette Coefficient: -0.003967271846686156\n",
      "number of clusters = 7, accuracy = 0.5015151515151515\n",
      "Silhouette Coefficient: -0.003967271846686156\n",
      "number of clusters = 8, accuracy = 0.5015151515151515\n",
      "Silhouette Coefficient: -0.003967271846686156\n",
      "number of clusters = 9, accuracy = 0.5015151515151515\n",
      "Silhouette Coefficient: -0.003967271846686156\n",
      "--- 2.64 seconds ---\n"
     ]
    }
   ],
   "source": [
    "start_time = time.time()\n",
    "\n",
    "num_clusters = [2, 3, 4, 5, 6, 7, 8, 9]\n",
    "# Clustering the document with KNN classifier\n",
    "\n",
    "for num in num_clusters:\n",
    "    modelknn = KNeighborsClassifier(n_neighbors=num)\n",
    "    modelknn.fit(X_train, y_train)\n",
    "    print(\"Silhouette Coefficient: {}\".format(metrics.silhouette_score(X_test, y_pred)))\n",
    "\n",
    "print(\"--- {} seconds ---\".format(round(time.time() - start_time, 2)))"
   ]
  },
  {
   "cell_type": "markdown",
   "metadata": {},
   "source": [
    "### KMeans (k++) <a name=\"knn\"></a>"
   ]
  },
  {
   "cell_type": "code",
   "execution_count": 91,
   "metadata": {
    "scrolled": false
   },
   "outputs": [
    {
     "name": "stdout",
     "output_type": "stream",
     "text": [
      "working\n",
      "--- 477.78 seconds ---\n"
     ]
    }
   ],
   "source": [
    "start_time = time.time()\n",
    "print('working')\n",
    "\n",
    "X = reviews_df['clean']\n",
    "\n",
    "count_vect = CountVectorizer(ngram_range=(1, 2), min_df=10, max_df=0.8, stop_words='english')\n",
    "cv_matrix = count_vect.fit_transform(X)\n",
    "cv_matrix.shape\n",
    "\n",
    "num_clusters = 9\n",
    "\n",
    "km = KMeans(n_clusters=num_clusters, max_iter=10000, n_init=50, random_state=42).fit(cv_matrix)\n",
    "labels = km.labels_\n",
    "\n",
    "print(\"--- {} seconds ---\".format(round(time.time() - start_time, 2)))"
   ]
  },
  {
   "cell_type": "code",
   "execution_count": 96,
   "metadata": {},
   "outputs": [
    {
     "data": {
      "text/plain": [
       "Counter({5: 3091,\n",
       "         0: 822,\n",
       "         7: 966,\n",
       "         8: 1172,\n",
       "         4: 1481,\n",
       "         2: 1260,\n",
       "         1: 869,\n",
       "         6: 210,\n",
       "         3: 127})"
      ]
     },
     "execution_count": 96,
     "metadata": {},
     "output_type": "execute_result"
    }
   ],
   "source": [
    "Counter(km.labels_)"
   ]
  },
  {
   "cell_type": "code",
   "execution_count": 98,
   "metadata": {},
   "outputs": [],
   "source": [
    "feature_names = count_vect.get_feature_names()\n",
    "topn_features = 15\n",
    "ordered_centroids = km.cluster_centers_.argsort()[:, ::-1]"
   ]
  },
  {
   "cell_type": "code",
   "execution_count": 99,
   "metadata": {
    "scrolled": true
   },
   "outputs": [
    {
     "name": "stdout",
     "output_type": "stream",
     "text": [
      "CLUSTER #1\n",
      "Key Features: ['stay', 'hotel', 'room', 'great', 'place', 'nice', 'staff', 'clean', 'good', 'breakfast', 'place stay', 'time', 'comfortable', 'night', 'friendly']\n",
      "Popular Ratings: [5.0, 5.0, 1.0, 4.0, 5.0, 5.0, 5.0, 5.0, 4.6, 2.7, 5.0, 4.6, 4.8, 5.0, 4.0, 5.0, 4.8, 4.4, 1.45, 4.8, 5.0, 5.0, 5.0, 5.0, 5.0, 5.0, 5.0, 4.6, 3.55, 5.0, 2.5, 4.15, 5.0, 5.0, 5.0, 5.0, 5.0, 5.0, 4.0, 3.0, 5.0, 5.0, 4.0, 4.0, 5.0, 4.0, 5.0, 5.0, 4.0, 4.0, 5.0, 4.0, 5.0, 4.0, 2.0, 5.0, 4.0, 4.0, 5.0, 5.0, 5.0, 5.0, 4.0, 4.0, 4.0, 1.0, 5.0, 5.0, 5.0, 5.0, 5.0, 5.0, 5.0, 5.0, 1.0, 5.0, 3.0, 5.0, 5.0, 5.0, 5.0, 5.0, 5.0, 5.0, 4.0, 3.0, 5.0, 5.0, 5.0, 4.0, 4.0, 4.0, 3.0, 3.0, 4.0, 5.0, 5.0, 5.0, 5.0, 5.0, 5.0, 1.0, 4.0, 5.0, 4.0, 4.0, 5.0, 5.0, 1.0, 1.0, 2.0, 4.0, 4.0, 2.0, 4.0, 5.0, 5.0, 5.0, 4.0, 5.0, 5.0, 5.0, 5.0, 5.0, 5.0, 1.0, 5.0, 5.0, 4.0, 4.0, 5.0, 5.0, 5.0, 4.0, 5.0, 5.0, 5.0, 4.0, 4.0, 5.0, 5.0, 5.0, 5.0, 5.0, 5.0, 2.0, 5.0, 5.0, 5.0, 3.0, 5.0, 4.0, 5.0, 5.0, 3.0, 5.0, 3.0, 5.0, 5.0, 5.0, 1.0, 3.0, 4.0, 5.0, 5.0, 1.0, 4.0, 3.0, 5.0, 4.0, 5.0, 4.0, 3.0, 5.0, 4.0, 5.0, 4.0, 4.0, 5.0, 5.0, 5.0, 5.0, 5.0, 5.0, 5.0, 1.0, 1.0, 4.0, 5.0, 4.0, 5.0, 5.0, 5.0, 4.0, 5.0, 4.0, 4.0, 5.0, 2.0, 5.0, 5.0, 5.0, 4.0, 5.0, 5.0, 5.0, 4.0, 5.0, 5.0, 5.0, 5.0, 5.0, 5.0, 5.0, 4.0, 5.0, 4.0, 5.0, 5.0, 5.0, 3.0, 4.0, 5.0, 1.0, 3.0, 4.0, 5.0, 4.0, 4.0, 3.0, 5.0, 5.0, 5.0, 4.0, 5.0, 5.0, 4.0, 5.0, 5.0, 5.0, 5.0, 4.0, 5.0, 5.0, 5.0, 5.0, 3.0, 4.0, 5.0, 5.0, 5.0, 4.0, 5.0, 5.0, 5.0, 3.0, 5.0, 4.0, 5.0, 5.0, 3.0, 5.0, 5.0, 5.0, 5.0, 4.0, 1.0, 2.0, 2.0, 5.0, 5.0, 3.0, 5.0, 4.0, 4.0, 5.0, 1.0, 2.0, 5.0, 5.0, 4.0, 5.0, 5.0, 4.0, 5.0, 4.0, 4.6, 4.8, 3.35, 5.0, 5.0, 5.0, 5.0, 4.0, 4.0, 5.0, 4.0, 3.0, 5.0, 4.0, 3.0, 5.0, 5.0, 5.0, 5.0, 4.0, 4.0, 5.0, 4.0, 1.0, 4.0, 5.0, 3.0, 4.0, 3.0, 5.0, 4.8, 5.0, 4.0, 5.0, 4.0, 4.0, 4.0, 5.0, 5.0, 5.0, 3.0, 5.0, 4.0, 3.0, 1.0, 3.0, 5.0, 4.0, 4.0, 4.0, 5.0, 5.0, 3.0, 5.0, 4.0, 5.0, 5.0, 4.0, 5.0, 5.0, 3.0, 4.0, 5.0, 4.0, 5.0, 5.0, 5.0, 5.0, 4.0, 5.0, 4.0, 5.0, 4.0, 5.0, 5.0, 5.0, 5.0, 5.0, 5.0, 4.0, 5.0, 5.0, 5.0, 4.0, 5.0, 5.0, 5.0, 5.0, 5.0, 5.0, 4.0, 5.0, 5.0, 5.0, 5.0, 5.0, 5.0, 4.0, 5.0, 5.0, 4.0, 5.0, 4.0, 3.0, 5.0, 5.0, 5.0, 5.0, 5.0, 5.0, 1.0, 4.0, 4.0, 3.0, 4.0, 4.0, 3.0, 5.0, 5.0, 3.0, 5.0, 4.0, 2.0, 2.0, 4.0, 2.0, 5.0, 3.0, 3.0, 5.0, 3.0, 4.0, 5.0, 4.0, 4.0, 4.0, 5.0, 1.0, 5.0, 5.0, 5.0, 5.0, 4.0, 3.0, 3.0, 5.0, 2.0, 4.0, 5.0, 1.0, 5.0, 4.0, 4.0, 4.0, 5.0, 5.0, 5.0, 5.0, 4.0, 5.0, 5.0, 4.0, 4.0, 4.0, 4.0, 5.0, 4.0, 4.0, 5.0, 4.0, 4.0, 4.0, 5.0, 5.0, 4.0, 5.0, 5.0, 5.0, 3.0, 5.0, 5.0, 5.0, 4.0, 5.0, 5.0, 4.0, 4.0, 4.0, 3.0, 5.0, 5.0, 1.0, 5.0, 4.0, 3.0, 5.0, 5.0, 4.0, 5.0, 5.0, 4.0, 4.0, 4.0, 5.0, 4.0, 4.0, 4.0, 5.0, 2.0, 4.0, 5.0, 5.0, 5.0, 2.0, 4.0, 5.0, 5.0, 5.0, 5.0, 4.0, 4.0, 5.0, 4.0, 5.0, 4.0, 1.0, 5.0, 5.0, 5.0, 4.0, 4.0, 5.0, 5.0, 5.0, 5.0, 5.0, 5.0, 5.0, 5.0, 5.0, 5.0, 5.0, 5.0, 4.0, 4.0, 5.0, 3.0, 5.0, 5.0, 4.0, 4.0, 5.0, 5.0, 4.0, 4.0, 5.0, 3.0, 5.0, 5.0, 4.0, 4.0, 5.0, 5.0, 4.0, 5.0, 3.0, 4.0, 5.0, 5.0, 5.0, 3.0, 5.0, 4.0, 4.0, 5.0, 5.0, 5.0, 5.0, 5.0, 4.0, 5.0, 4.0, 1.0, 1.0, 5.0, 5.0, 5.0, 5.0, 4.0, 4.0, 5.0, 5.0, 4.0, 3.0, 5.0, 5.0, 5.0, 5.0, 3.0, 5.0, 5.0, 4.0, 3.0, 5.0, 2.0, 1.0, 5.0, 5.0, 4.0, 4.0, 1.0, 4.0, 5.0, 5.0, 4.0, 2.0, 5.0, 4.0, 4.0, 4.0, 4.0, 4.0, 3.0, 3.0, 5.0, 3.0, 5.0, 5.0, 5.0, 5.0, 5.0, 5.0, 5.0, 5.0, 4.0, 5.0, 5.0, 5.0, 5.0, 4.0, 5.0, 5.0, 5.0, 2.0, 5.0, 4.0, 5.0, 5.0, 5.0, 5.0, 4.0, 5.0, 4.0, 5.0, 5.0, 5.0, 5.0, 5.0, 4.0, 5.0, 4.0, 3.0, 4.0, 5.0, 5.0, 4.0, 5.0, 5.0, 5.0, 5.0, 5.0, 5.0, 5.0, 1.0, 5.0, 5.0, 5.0, 5.0, 1.0, 5.0, 5.0, 5.0, 3.0, 4.0, 4.0, 4.0, 5.0, 5.0, 5.0, 5.0, 5.0, 5.0, 5.0, 5.0, 5.0, 5.0, 4.0, 5.0, 4.0, 4.0, 5.0, 5.0, 5.0, 5.0, 5.0, 5.0, 2.0, 4.0, 5.0, 5.0, 5.0, 5.0, 5.0, 4.0, 4.0, 5.0, 5.0, 5.0, 4.0, 4.0, 5.0, 5.0, 1.0, 4.0, 5.0, 3.0, 1.0, 5.0, 5.0, 5.0, 5.0, 5.0, 5.0, 5.0, 3.0, 3.0, 5.0, 5.0, 5.0, 3.0, 2.0, 1.0, 4.0, 4.0, 1.0, 1.0, 4.0, 5.0, 3.0, 3.0, 4.0, 5.0, 4.0, 4.0, 4.0, 4.0, 5.0, 4.0, 5.0, 3.0, 5.0, 4.0, 5.0, 5.0, 1.0, 5.0, 5.0, 5.0, 3.0, 4.0, 5.0, 5.0, 5.0, 5.0, 4.0, 4.0, 5.0, 4.0, 5.0, 3.0, 5.0, 5.0, 2.0, 5.0, 5.0, 5.0, 5.0, 5.0, 5.0, 2.0, 1.0, 4.0, 5.0, 5.0, 5.0, 5.0, 4.0, 1.0, 4.0, 5.0, 5.0, 4.0, 5.0, 5.0, 4.0, 4.0, 5.0, 4.0, 5.0, 4.0, 5.0, 5.0, 5.0, 5.0, 5.0, 5.0, 3.0, 5.0, 5.0, 5.0, 4.0, 3.0, 5.0, 2.0, 4.0, 5.0, 5.0, 5.0, 5.0, 4.0, 5.0, 1.0, 4.0, 5.0, 4.0, 4.0]\n",
      "--------------------------------------------------------------------------------\n",
      "CLUSTER #2\n",
      "Key Features: ['good', 'location', 'room', 'hotel', 'breakfast', 'bad', 'clean', 'good location', 'staff', 'nice', 'great', 'stay', 'bed', 'comfortable', 'price']\n",
      "Popular Ratings: [3.0, 4.0, 4.0, 4.8, 3.55, 5.0, 4.8, 4.8, 3.95, 4.6, 3.35, 5.0, 5.0, 4.5, 4.6, 4.15, 4.4, 2.5, 3.95, 4.4, 4.4, 4.4, 3.95, 3.55, 5.0, 2.5, 2.9, 4.4, 3.75, 3.55, 3.55, 3.75, 2.9, 5.0, 4.15, 4.15, 4.15, 2.9, 3.35, 3.55, 4.6, 2.9, 2.9, 3.15, 3.95, 3.55, 4.15, 4.6, 5.0, 4.8, 3.35, 4.6, 4.8, 4.8, 1.45, 3.35, 4.6, 3.15, 3.75, 5.0, 2.9, 5.0, 5.0, 2.7, 4.8, 4.4, 4.6, 5.0, 5.0, 4.8, 3.35, 4.8, 5.0, 4.4, 4.8, 3.35, 2.9, 4.8, 3.75, 4.15, 3.5, 2.7, 1.65, 3.95, 4.6, 4.6, 4.6, 5.0, 3.55, 4.8, 4.6, 4.8, 4.15, 5.0, 5.0, 3.75, 4.15, 5.0, 2.7, 4.6, 3.35, 4.5, 4.6, 4.4, 1.45, 4.15, 4.6, 3.55, 4.6, 5.0, 4.8, 1.45, 3.15, 4.0, 4.8, 5.0, 4.4, 3.15, 5.0, 4.15, 3.15, 4.6, 3.55, 3.75, 4.15, 3.95, 3.15, 4.4, 3.75, 4.15, 3.75, 4.4, 4.15, 2.5, 3.55, 3.55, 3.15, 3.35, 4.6, 5.0, 3.75, 5.0, 5.0, 4.15, 3.35, 5.0, 4.4, 5.0, 4.6, 3.15, 4.6, 3.95, 4.6, 3.35, 2.9, 3.35, 4.8, 5.0, 4.4, 4.8, 4.15, 4.4, 3.75, 4.15, 4.15, 4.6, 5.0, 3.75, 3.95, 3.35, 5.0, 4.8, 5.0, 4.6, 4.25, 4.4, 5.0, 3.75, 4.4, 5.0, 2.7, 2.9, 4.6, 5.0, 5.0, 5.0, 2.9, 4.4, 3.95, 5.0, 3.45, 3.75, 4.8, 2.5, 2.3, 2.7, 4.8, 4.8, 3.75, 5.0, 3.55, 4.6, 2.9, 4.6, 4.8, 4.0, 5.0, 4.6, 4.8, 5.0, 5.0, 3.55, 3.15, 4.8, 4.8, 4.6, 4.15, 4.8, 4.6, 3.15, 4.4, 4.8, 3.75, 3.95, 4.6, 3.55, 4.5, 5.0, 2.1, 4.4, 4.6, 4.15, 3.25, 4.6, 4.8, 4.8, 4.8, 2.9, 4.8, 4.15, 5.0, 4.6, 4.6, 5.0, 3.75, 4.4, 3.75, 4.15, 4.6, 4.4, 4.8, 4.15, 2.7, 5.0, 5.0, 3.75, 5.0, 4.8, 5.0, 3.55, 4.6, 4.8, 4.15, 4.15, 4.15, 4.6, 3.75, 3.75, 4.15, 5.0, 5.0, 4.15, 4.8, 3.25, 4.4, 3.35, 3.75, 4.75, 4.6, 4.6, 3.5, 3.15, 4.15, 3.75, 4.4, 4.8, 4.8, 4.6, 4.6, 4.6, 3.0, 4.0, 4.0, 5.0, 4.0, 4.0, 2.0, 5.0, 4.0, 5.0, 4.0, 5.0, 4.0, 2.0, 3.0, 4.0, 5.0, 5.0, 3.0, 1.0, 3.0, 4.4, 5.0, 4.4, 4.4, 5.0, 5.0, 4.0, 4.0, 4.0, 5.0, 4.0, 3.0, 5.0, 4.0, 4.0, 4.0, 5.0, 4.0, 5.0, 5.0, 4.0, 3.0, 3.0, 4.0, 4.0, 4.0, 4.0, 4.0, 4.4, 4.6, 5.0, 4.8, 3.15, 5.0, 3.55, 5.0, 1.65, 3.35, 1.9, 3.35, 4.15, 4.4, 3.75, 4.0, 5.0, 4.0, 5.0, 3.0, 4.0, 5.0, 5.0, 5.0, 3.0, 5.0, 5.0, 4.0, 4.15, 3.35, 3.35, 5.0, 3.0, 3.0, 3.0, 5.0, 4.0, 4.0, 4.0, 4.0, 4.0, 5.0, 5.0, 5.0, 3.0, 5.0, 4.0, 5.0, 5.0, 4.0, 4.0, 4.0, 4.0, 4.0, 4.0, 4.0, 5.0, 5.0, 4.0, 4.0, 2.0, 4.0, 2.0, 4.0, 2.0, 4.0, 5.0, 4.0, 4.0, 5.0, 4.0, 4.0, 5.0, 4.0, 5.0, 4.0, 5.0, 4.0, 4.0, 4.0, 3.0, 4.0, 5.0, 4.0, 4.6, 4.6, 4.8, 3.35, 4.4, 3.75, 5.0, 3.55, 3.95, 3.95, 5.0, 3.55, 5.0, 2.5, 4.0, 4.6, 3.35, 4.0, 2.1, 5.0, 4.0, 3.55, 4.8, 3.95, 2.7, 4.4, 4.8, 3.55, 3.75, 5.0, 4.15, 3.75, 4.15, 4.6, 5.0, 4.4, 4.6, 4.4, 3.95, 3.95, 4.6, 4.6, 4.6, 4.8, 2.3, 4.15, 2.3, 4.4, 3.95, 3.35, 4.8, 3.15, 4.6, 3.75, 3.75, 4.6, 4.15, 3.0, 5.0, 5.0, 3.0, 5.0, 4.0, 5.0, 1.0, 4.0, 5.0, 3.0, 4.0, 4.0, 4.0, 3.55, 5.0, 4.8, 5.0, 3.35, 5.0, 5.0, 5.0, 3.75, 4.8, 4.8, 4.4, 2.5, 4.4, 4.15, 3.75, 4.6, 3.95, 5.0, 4.4, 4.8, 5.0, 4.15, 2.0, 4.0, 5.0, 4.0, 3.0, 4.0, 3.0, 5.0, 3.0, 5.0, 5.0, 4.0, 4.0, 4.0, 2.0, 4.0, 3.0, 4.0, 4.0, 2.0, 4.0, 4.0, 3.0, 4.0, 3.0, 2.0, 4.0, 3.0, 5.0, 3.0, 5.0, 3.35, 4.0, 4.0, 5.0, 5.0, 4.0, 5.0, 5.0, 4.0, 5.0, 5.0, 4.0, 4.0, 5.0, 5.0, 5.0, 4.0, 5.0, 3.0, 4.0, 3.0, 5.0, 3.0, 4.0, 3.0, 5.0, 2.0, 4.0, 3.0, 3.0, 2.0, 3.0, 3.0, 3.0, 4.0, 4.0, 4.0, 3.0, 4.0, 3.0, 4.0, 3.0, 5.0, 4.0, 3.0, 4.0, 5.0, 4.0, 5.0, 4.0, 3.0, 4.0, 4.0, 4.0, 4.0, 5.0, 4.0, 3.0, 4.0, 3.0, 4.0, 3.0, 3.0, 3.0, 5.0, 5.0, 3.0, 4.0, 3.0, 4.0, 5.0, 4.0, 4.0, 5.0, 4.0, 4.0, 4.0, 5.0, 5.0, 4.0, 4.0, 3.0, 4.0, 3.0, 5.0, 4.0, 5.0, 5.0, 5.0, 3.0, 4.0, 3.0, 3.0, 3.0, 5.0, 4.0, 2.0, 5.0, 4.0, 3.0, 4.0, 3.0, 4.0, 4.0, 4.0, 4.0, 3.0, 3.0, 5.0, 5.0, 5.0, 3.0, 4.0, 4.0, 1.0, 3.0, 3.0, 3.0, 5.0, 5.0, 4.0, 3.0, 3.0, 4.0, 4.0, 5.0, 4.0, 5.0, 4.0, 5.0, 4.0, 4.0, 3.0, 2.0, 4.0, 5.0, 3.0, 3.0, 3.0, 5.0, 4.0, 3.0, 5.0, 4.0, 4.0, 5.0, 4.0, 5.0, 5.0, 5.0, 4.0, 5.0, 4.0, 3.0, 4.0, 5.0, 3.0, 4.0, 4.0, 5.0, 5.0, 5.0, 5.0, 4.0, 3.0, 3.0, 1.0, 4.0, 5.0, 5.0, 5.0, 5.0, 5.0, 4.0, 4.0, 3.0, 3.0, 4.0, 5.0, 4.0, 4.0, 5.0, 4.0, 4.0, 4.0, 4.0, 5.0, 4.0, 4.0, 4.0, 4.0, 3.0, 3.0, 4.0, 3.0, 3.0, 4.0, 4.0, 4.0, 5.0, 5.0, 4.0, 5.0, 5.0, 2.0, 5.0, 5.0, 4.0, 4.0, 5.0, 4.0, 5.0, 3.0, 4.0, 2.0, 4.0, 3.0, 4.0, 4.0, 4.0, 4.0, 5.0, 4.0, 4.0, 4.0, 4.0, 3.0, 5.0, 4.0, 4.0, 3.0, 4.0, 5.0, 4.0, 4.0, 4.0, 3.0, 4.0, 4.0, 3.0, 4.0, 4.0, 4.0, 3.0, 5.0, 5.0, 3.0, 5.0, 3.0, 5.0, 4.0, 5.0, 4.0, 5.0, 4.0, 4.0, 5.0, 4.0, 5.0, 4.0, 4.0, 4.0, 1.0, 4.0, 4.0, 3.0, 4.0, 4.0, 3.0, 4.0, 4.0, 3.0, 5.0, 4.0, 5.0, 4.0, 3.0, 4.0, 3.0, 4.0, 3.0, 5.0, 4.0, 3.0, 4.0, 4.0, 3.0, 3.0, 5.0, 3.0, 4.0, 4.0, 3.0, 4.0, 5.0, 5.0, 3.0, 5.0, 2.0, 5.0, 4.0, 4.0, 1.0, 4.0, 4.0, 4.0, 4.0, 4.0, 3.0, 4.0, 1.0, 4.0, 4.0, 4.0, 4.0, 4.0, 5.0, 4.0, 4.0, 3.0, 4.0]\n",
      "--------------------------------------------------------------------------------\n",
      "CLUSTER #3\n",
      "Key Features: ['staff', 'friendly', 'room', 'clean', 'hotel', 'nice', 'breakfast', 'stay', 'helpful', 'great', 'good', 'comfortable', 'staff friendly', 'location', 'friendly helpful']\n",
      "Popular Ratings: [5.0, 5.0, 5.0, 4.0, 4.0, 5.0, 5.0, 5.0, 4.6, 4.6, 5.0, 5.0, 3.75, 3.55, 4.8, 5.0, 5.0, 3.95, 5.0, 4.8, 4.6, 4.8, 5.0, 2.9, 3.75, 4.8, 4.8, 4.8, 4.15, 5.0, 5.0, 4.8, 4.8, 4.8, 4.15, 4.4, 5.0, 4.8, 5.0, 3.95, 4.8, 4.8, 4.8, 4.15, 2.9, 2.9, 4.6, 4.4, 4.4, 4.8, 4.6, 3.35, 4.4, 5.0, 4.8, 5.0, 5.0, 5.0, 5.0, 5.0, 4.15, 3.95, 4.6, 4.4, 4.8, 4.4, 4.4, 4.8, 4.6, 5.0, 5.0, 4.6, 5.0, 5.0, 5.0, 4.4, 5.0, 5.0, 4.6, 4.8, 4.8, 5.0, 4.0, 4.8, 3.15, 4.8, 5.0, 3.75, 4.4, 2.7, 4.4, 4.8, 4.4, 5.0, 3.0, 2.0, 5.0, 4.0, 5.0, 4.0, 5.0, 5.0, 5.0, 1.0, 4.0, 5.0, 5.0, 4.0, 5.0, 5.0, 4.0, 3.0, 5.0, 3.0, 5.0, 5.0, 4.0, 4.0, 5.0, 5.0, 4.0, 5.0, 4.0, 5.0, 5.0, 4.0, 4.0, 3.0, 5.0, 5.0, 5.0, 5.0, 5.0, 4.0, 5.0, 5.0, 5.0, 4.0, 3.0, 4.0, 4.0, 4.0, 5.0, 5.0, 5.0, 5.0, 4.0, 4.0, 5.0, 5.0, 4.0, 5.0, 5.0, 5.0, 3.0, 3.0, 5.0, 2.0, 5.0, 4.0, 5.0, 5.0, 3.0, 5.0, 5.0, 4.0, 4.0, 4.0, 2.9, 4.6, 4.4, 4.4, 3.75, 5.0, 4.0, 5.0, 5.0, 5.0, 5.0, 5.0, 5.0, 3.0, 4.0, 4.0, 5.0, 5.0, 4.0, 5.0, 4.0, 5.0, 5.0, 5.0, 5.0, 5.0, 5.0, 4.0, 5.0, 4.0, 5.0, 5.0, 5.0, 4.6, 5.0, 3.0, 5.0, 5.0, 5.0, 3.0, 5.0, 4.0, 5.0, 4.0, 5.0, 3.0, 5.0, 5.0, 4.0, 4.0, 5.0, 5.0, 4.0, 4.0, 4.0, 4.0, 5.0, 5.0, 4.0, 5.0, 3.0, 4.0, 5.0, 4.0, 4.0, 5.0, 5.0, 5.0, 5.0, 4.0, 5.0, 4.0, 4.0, 3.0, 4.0, 5.0, 5.0, 3.0, 5.0, 5.0, 4.0, 4.0, 5.0, 5.0, 3.0, 3.0, 2.0, 4.0, 5.0, 5.0, 5.0, 4.0, 5.0, 4.0, 4.0, 5.0, 3.0, 5.0, 5.0, 5.0, 5.0, 5.0, 5.0, 5.0, 5.0, 5.0, 5.0, 5.0, 4.0, 4.0, 4.0, 5.0, 5.0, 5.0, 5.0, 5.0, 5.0, 5.0, 5.0, 4.0, 3.0, 5.0, 5.0, 5.0, 5.0, 4.0, 5.0, 5.0, 4.0, 5.0, 4.0, 5.0, 5.0, 4.0, 5.0, 4.0, 5.0, 4.0, 5.0, 4.0, 5.0, 1.0, 4.0, 4.0, 4.0, 4.0, 3.0, 4.0, 3.0, 5.0, 5.0, 3.0, 4.0, 5.0, 5.0, 2.0, 4.0, 4.0, 5.0, 5.0, 5.0, 4.0, 5.0, 2.0, 5.0, 5.0, 5.0, 3.0, 4.0, 4.0, 4.0, 5.0, 5.0, 5.0, 4.0, 5.0, 5.0, 5.0, 5.0, 5.0, 5.0, 5.0, 5.0, 5.0, 5.0, 4.0, 5.0, 4.0, 5.0, 4.8, 4.15, 4.4, 5.0, 2.9, 5.0, 5.0, 4.8, 4.6, 5.0, 5.0, 5.0, 5.0, 5.0, 5.0, 4.4, 4.6, 5.0, 5.0, 4.4, 5.0, 4.6, 4.6, 2.9, 4.6, 4.6, 4.4, 5.0, 4.6, 4.6, 4.0, 5.0, 5.0, 4.0, 5.0, 4.0, 4.0, 5.0, 5.0, 5.0, 5.0, 4.0, 5.0, 5.0, 4.0, 4.0, 3.0, 4.0, 5.0, 5.0, 3.0, 5.0, 5.0, 5.0, 5.0, 5.0, 5.0, 5.0, 5.0, 5.0, 4.0, 3.0, 5.0, 4.0, 5.0, 5.0, 5.0, 5.0, 5.0, 5.0, 4.0, 3.0, 5.0, 5.0, 5.0, 5.0, 2.5, 4.8, 4.8, 5.0, 5.0, 5.0, 2.0, 3.0, 3.0, 5.0, 4.0, 5.0, 2.0, 4.0, 4.0, 5.0, 4.0, 4.0, 4.0, 5.0, 4.0, 5.0, 5.0, 4.0, 3.0, 4.0, 5.0, 4.0, 5.0, 5.0, 3.0, 5.0, 5.0, 5.0, 5.0, 4.0, 5.0, 5.0, 5.0, 5.0, 5.0, 4.0, 5.0, 5.0, 5.0, 4.0, 5.0, 5.0, 5.0, 3.0, 5.0, 4.0, 5.0, 4.0, 5.0, 5.0, 3.0, 5.0, 4.0, 2.0, 4.0, 5.0, 4.0, 4.0, 5.0, 5.0, 3.0, 1.0, 4.0, 4.0, 4.0, 4.0, 5.0, 5.0, 5.0, 3.0, 5.0, 5.0, 2.0, 4.0, 5.0, 5.0, 4.0, 5.0, 5.0, 5.0, 5.0, 5.0, 3.0, 5.0, 3.0, 3.0, 5.0, 5.0, 3.0, 4.0, 5.0, 5.0, 4.0, 5.0, 5.0, 5.0, 4.0, 4.0, 5.0, 3.0, 4.0, 5.0, 5.0, 5.0, 4.0, 5.0, 5.0, 5.0, 5.0, 5.0, 5.0, 4.0, 4.0, 4.0, 4.0, 4.0, 5.0, 5.0, 3.0, 4.0, 5.0, 4.0, 5.0, 5.0, 2.0, 4.0, 5.0, 5.0, 2.0, 4.0, 3.0, 5.0, 4.0, 3.0, 4.0, 3.0, 4.0, 4.0, 5.0, 5.0, 5.0, 4.0, 4.0, 5.0, 4.0, 5.0, 5.0, 4.0, 5.0, 5.0, 5.0, 5.0, 5.0, 5.0, 5.0, 5.0, 5.0, 5.0, 5.0, 5.0, 4.0, 4.0, 5.0, 5.0, 1.0, 4.0, 4.0, 5.0, 4.0, 5.0, 3.0, 4.0, 5.0, 4.0, 3.0, 4.0, 5.0, 4.0, 5.0, 5.0, 5.0, 5.0, 5.0, 5.0, 5.0, 5.0, 5.0, 5.0, 5.0, 5.0, 4.0, 5.0, 3.0, 4.0, 5.0, 3.0, 5.0, 3.0, 3.0, 4.0, 1.0, 5.0, 4.0, 5.0, 5.0, 3.0, 4.0, 4.0, 4.0, 5.0, 5.0, 3.0, 5.0, 4.0, 5.0, 4.0, 5.0, 3.0, 3.0, 4.0, 4.0, 4.0, 3.0, 5.0, 5.0, 4.0, 4.0, 4.0, 5.0, 5.0, 5.0, 5.0, 5.0, 5.0, 5.0, 5.0, 5.0, 5.0, 5.0, 5.0, 5.0, 5.0, 5.0, 5.0, 5.0, 2.0, 3.0, 5.0, 5.0, 5.0, 5.0, 5.0, 4.0, 5.0, 4.0, 5.0, 5.0, 5.0, 4.0, 4.0, 5.0, 3.0, 5.0, 5.0, 4.0, 4.0, 4.0, 5.0, 5.0, 5.0, 4.0, 5.0, 3.0, 5.0, 2.0, 5.0, 5.0, 5.0, 5.0, 4.0, 4.0, 4.0, 4.0, 4.0, 4.0, 5.0, 3.0, 4.0, 5.0, 5.0, 5.0, 5.0, 5.0, 5.0, 5.0, 3.0, 4.0, 4.0, 4.0, 4.0, 5.0, 3.0, 5.0, 4.0, 4.0, 5.0, 5.0, 5.0, 5.0, 5.0, 4.0, 5.0, 5.0, 4.0, 4.0, 4.0, 4.0, 4.0, 5.0, 5.0, 5.0, 3.0, 5.0, 3.0, 4.0, 5.0, 4.0, 2.0, 4.0, 3.0, 3.0, 5.0, 3.0, 4.0, 5.0, 3.0, 5.0, 5.0, 4.0, 4.0, 5.0, 4.0, 4.0, 5.0, 5.0, 4.0, 5.0, 4.0, 5.0, 5.0, 4.0, 4.0, 5.0, 4.0, 5.0, 5.0, 5.0, 5.0, 3.0, 5.0, 5.0, 5.0, 5.0, 4.0, 5.0, 5.0, 5.0, 5.0, 5.0, 5.0, 5.0, 5.0, 5.0, 5.0, 4.0, 4.0, 5.0, 5.0, 5.0, 5.0, 5.0, 3.0, 5.0, 3.0, 5.0, 5.0, 5.0, 5.0, 5.0, 4.0, 5.0, 4.0, 4.0, 5.0, 5.0, 5.0, 4.0, 5.0, 5.0, 3.0, 5.0, 5.0, 5.0, 5.0, 5.0, 5.0, 3.0, 4.0, 3.0, 5.0, 3.0, 5.0, 4.0, 5.0, 5.0, 5.0, 5.0, 5.0, 4.0, 4.0, 3.0, 4.0, 5.0, 4.0, 5.0, 4.0, 4.0, 5.0, 5.0, 4.0, 5.0, 5.0, 4.0, 4.0, 5.0, 5.0, 5.0, 4.0, 5.0, 5.0, 5.0, 5.0, 5.0, 5.0, 4.0, 2.0, 5.0, 5.0, 5.0, 5.0, 5.0, 5.0, 4.0, 3.0, 5.0, 5.0, 5.0, 5.0, 3.0, 4.0, 4.0, 4.0, 5.0, 5.0, 5.0, 5.0, 5.0, 4.0, 4.0, 5.0, 4.0, 4.0, 4.0, 3.0, 4.0, 4.0, 4.0, 5.0, 5.0, 5.0, 4.0, 4.0, 4.0, 5.0, 5.0, 5.0, 4.0, 5.0, 4.0, 5.0, 5.0, 2.0, 5.0, 5.0, 4.0, 5.0, 5.0, 5.0, 5.0, 4.0, 4.0, 3.0, 5.0, 5.0, 5.0, 5.0, 4.0, 5.0, 5.0, 3.0, 5.0, 4.0, 4.0, 5.0, 5.0, 5.0, 4.0, 5.0, 4.0, 4.0, 5.0, 2.0, 2.0, 5.0, 5.0, 5.0, 4.0, 4.0, 5.0, 4.0, 5.0, 5.0, 4.0, 4.0, 5.0, 3.0, 5.0, 4.0, 5.0, 5.0, 5.0, 5.0, 4.0, 5.0, 2.0, 4.0, 4.0, 5.0, 5.0, 5.0, 5.0, 5.0, 5.0, 5.0, 5.0, 5.0, 3.0, 5.0, 5.0, 5.0, 5.0, 5.0, 4.0, 4.0, 4.0, 2.0, 4.0, 4.0, 3.0, 5.0, 5.0, 3.0, 4.0, 4.0, 5.0, 2.0, 4.0, 4.0, 4.0, 5.0, 5.0, 5.0, 5.0, 3.0, 5.0, 5.0, 3.0, 5.0, 5.0, 4.0, 4.0, 4.0, 5.0, 3.0, 3.0, 5.0, 4.0, 4.0, 5.0, 5.0, 5.0, 4.0, 3.0, 4.0, 4.0, 5.0, 5.0, 4.0, 5.0, 4.0, 5.0, 5.0, 4.0, 5.0, 5.0, 3.0, 5.0, 5.0, 5.0, 5.0, 3.0, 5.0, 5.0, 4.0, 5.0, 4.0, 5.0, 5.0, 5.0, 3.0, 3.0, 3.0, 5.0, 5.0, 5.0, 5.0, 5.0, 5.0, 5.0, 3.0, 5.0, 5.0, 3.0, 3.0, 4.0, 4.0, 3.0, 1.0, 5.0, 5.0, 5.0, 4.0, 4.0, 1.0, 4.0, 5.0, 5.0, 5.0, 4.0, 5.0, 3.0, 4.0, 5.0, 5.0, 5.0, 4.0, 5.0, 1.0, 5.0, 4.0, 5.0, 5.0, 4.0, 5.0, 5.0, 5.0, 4.0, 4.0, 5.0, 5.0, 4.0, 2.0, 5.0, 4.0, 5.0, 4.0, 4.0, 3.0, 4.0, 4.0, 4.0, 4.0, 4.0, 5.0, 3.0, 5.0, 5.0, 4.0, 1.0, 1.0, 5.0, 5.0, 5.0, 5.0, 5.0, 5.0, 4.0, 5.0, 4.0, 5.0, 4.0, 4.0, 3.0, 5.0, 4.0, 4.0, 4.0, 5.0, 5.0, 4.0, 5.0, 4.0, 3.0, 4.0, 5.0, 4.0, 5.0, 4.0, 4.0, 4.0, 4.0, 5.0, 5.0, 4.0, 5.0, 3.0, 4.0, 5.0, 4.0, 4.0, 5.0, 4.0, 3.0, 3.0, 4.0, 4.0, 5.0, 5.0, 5.0, 4.0, 5.0, 5.0, 3.0, 5.0, 5.0, 5.0, 4.0, 5.0, 3.0, 5.0, 4.0, 4.0, 4.0, 4.0, 5.0, 5.0, 4.0, 5.0, 5.0, 5.0, 5.0, 4.0, 5.0, 4.0, 2.0, 4.0, 5.0, 5.0, 5.0, 5.0, 5.0, 4.0, 5.0, 5.0, 5.0, 5.0, 4.0, 5.0, 5.0, 3.0, 3.0, 5.0, 5.0, 5.0, 4.0, 4.0, 3.0, 4.0, 5.0, 5.0, 5.0, 4.0, 4.0, 5.0, 4.0, 5.0, 4.0, 5.0, 5.0, 3.0, 5.0, 5.0, 5.0, 4.0, 4.0, 5.0, 5.0, 1.0, 5.0, 4.0, 4.0]\n",
      "--------------------------------------------------------------------------------\n",
      "CLUSTER #4\n",
      "Key Features: ['hotel', 'room', 'stay', 'time', 'staff', 'service', 'great', 'night', 'good', 'location', 'guest', 'nice', 'day', 'breakfast', 'like']\n",
      "Popular Ratings: [5.0, 5.0, 5.0, 5.0, 5.0, 5.0, 5.0, 1.9, 3.0, 1.0, 5.0, 3.0, 1.0, 3.0, 3.0, 5.0, 3.0, 5.0, 5.0, 5.0, 5.0, 5.0, 5.0, 3.0, 4.6, 2.9, 5.0, 4.0, 4.0, 4.0, 5.0, 3.0, 4.0, 2.0, 4.0, 4.0, 4.0, 3.0, 4.0, 4.0, 4.0, 5.0, 4.0, 5.0, 1.0, 3.0, 1.0, 5.0, 4.0, 5.0, 3.0, 4.0, 4.0, 1.0, 3.0, 1.0, 3.0, 5.0, 4.0, 1.0, 3.0, 5.0, 5.0, 5.0, 5.0, 4.0, 4.0, 3.0, 5.0, 5.0, 5.0, 4.0, 4.0, 5.0, 5.0, 5.0, 5.0, 5.0, 4.0, 5.0, 4.0, 4.0, 3.0, 4.0, 5.0, 1.0, 5.0, 5.0, 3.0, 5.0, 4.0, 3.0, 4.0, 5.0, 5.0, 5.0, 5.0, 5.0, 1.0, 4.0, 1.0, 4.0, 3.0, 5.0, 1.0, 3.0, 4.0, 4.0, 4.0, 5.0, 4.0, 5.0, 2.0, 5.0, 2.0, 3.0, 3.0, 4.0, 5.0, 1.0, 1.0, 5.0, 3.0, 4.0, 2.0, 1.0, 1.0]\n",
      "--------------------------------------------------------------------------------\n",
      "CLUSTER #5\n",
      "Key Features: ['hotel', 'room', 'staff', 'nice', 'clean', 'stay', 'great', 'good', 'breakfast', 'location', 'area', 'friendly', 'stayed', 'night', 'time']\n",
      "Popular Ratings: [5.0, 5.0, 5.0, 5.0, 5.0, 4.0, 5.0, 5.0, 5.0, 3.0, 5.0, 4.8, 5.0, 4.8, 5.0, 5.0, 3.75, 5.0, 5.0, 5.0, 3.55, 4.8, 5.0, 3.55, 3.35, 5.0, 5.0, 4.4, 3.35, 3.0, 5.0, 4.0, 4.0, 5.0, 5.0, 4.15, 5.0, 5.0, 3.75, 5.0, 4.4, 4.6, 5.0, 3.75, 2.7, 5.0, 3.55, 5.0, 3.55, 4.8, 4.4, 5.0, 5.0, 5.0, 3.95, 3.95, 4.4, 5.0, 4.15, 5.0, 4.8, 5.0, 5.0, 5.0, 5.0, 5.0, 5.0, 5.0, 5.0, 5.0, 5.0, 5.0, 5.0, 5.0, 5.0, 5.0, 4.4, 4.8, 5.0, 5.0, 3.35, 4.8, 5.0, 5.0, 1.65, 3.15, 3.15, 5.0, 5.0, 3.55, 5.0, 5.0, 5.0, 4.4, 4.8, 3.95, 3.75, 4.8, 3.0, 3.0, 5.0, 5.0, 4.0, 2.0, 5.0, 4.0, 4.0, 4.0, 2.0, 5.0, 4.0, 5.0, 4.0, 5.0, 5.0, 2.0, 4.0, 5.0, 3.0, 5.0, 4.0, 4.0, 2.0, 4.0, 5.0, 5.0, 4.0, 4.0, 4.0, 4.0, 5.0, 5.0, 3.0, 4.0, 5.0, 4.0, 2.0, 5.0, 4.0, 5.0, 2.0, 3.0, 4.0, 5.0, 3.0, 5.0, 5.0, 2.0, 5.0, 4.0, 5.0, 5.0, 3.0, 3.0, 5.0, 3.0, 5.0, 5.0, 1.0, 4.15, 5.0, 5.0, 3.0, 5.0, 5.0, 5.0, 4.0, 5.0, 4.0, 5.0, 5.0, 3.0, 4.0, 5.0, 5.0, 5.0, 1.0, 3.0, 5.0, 5.0, 5.0, 3.0, 4.0, 4.0, 5.0, 3.0, 4.0, 1.0, 1.0, 3.0, 3.0, 3.0, 4.0, 5.0, 2.0, 4.0, 4.0, 3.0, 3.0, 3.0, 3.0, 5.0, 5.0, 5.0, 1.0, 5.0, 5.0, 1.0, 5.0, 5.0, 5.0, 5.0, 5.0, 5.0, 4.0, 5.0, 4.0, 1.0, 5.0, 4.0, 4.0, 5.0, 4.0, 5.0, 5.0, 5.0, 4.0, 5.0, 5.0, 4.0, 5.0, 5.0, 5.0, 5.0, 5.0, 5.0, 5.0, 4.0, 5.0, 5.0, 5.0, 4.0, 5.0, 5.0, 4.0, 4.0, 5.0, 1.0, 4.0, 5.0, 5.0, 5.0, 4.0, 5.0, 5.0, 4.0, 5.0, 2.0, 4.0, 4.0, 1.0, 2.0, 5.0, 1.0, 5.0, 3.0, 2.0, 3.0, 2.1, 4.0, 5.0, 5.0, 5.0, 3.0, 5.0, 5.0, 4.0, 4.0, 4.0, 4.0, 5.0, 5.0, 5.0, 5.0, 4.0, 4.0, 4.0, 4.0, 5.0, 4.0, 5.0, 1.0, 5.0, 5.0, 5.0, 3.0, 5.0, 5.0, 5.0, 3.0, 5.0, 5.0, 2.0, 5.0, 4.0, 5.0, 5.0, 5.0, 5.0, 4.0, 5.0, 1.0, 5.0, 5.0, 1.0, 5.0, 4.0, 5.0, 4.0, 5.0, 5.0, 5.0, 5.0, 5.0, 5.0, 5.0, 5.0, 3.75, 3.0, 4.0, 5.0, 4.0, 5.0, 4.0, 5.0, 4.0, 5.0, 5.0, 5.0, 4.0, 4.0, 5.0, 4.0, 4.0, 4.0, 4.0, 5.0, 4.0, 5.0, 3.0, 5.0, 1.0, 4.0, 5.0, 5.0, 1.0, 5.0, 4.0, 5.0, 5.0, 1.0, 5.0, 5.0, 5.0, 3.0, 4.0, 4.0, 5.0, 5.0, 4.0, 4.0, 5.0, 5.0, 3.0, 5.0, 5.0, 5.0, 3.0, 5.0, 5.0, 2.0, 5.0, 2.0, 4.0, 4.0, 5.0, 5.0, 4.0, 4.0, 4.0, 5.0, 5.0, 3.0, 5.0, 4.0, 4.0, 1.0, 1.0, 2.0, 4.0, 5.0, 5.0, 5.0, 5.0, 5.0, 4.0, 5.0, 1.0, 5.0, 4.0, 4.0, 3.0, 5.0, 5.0, 4.0, 4.0, 4.0, 1.0, 5.0, 5.0, 3.0, 5.0, 4.0, 3.0, 5.0, 3.0, 5.0, 4.0, 4.0, 3.0, 5.0, 5.0, 5.0, 5.0, 5.0, 5.0, 5.0, 5.0, 5.0, 4.0, 4.0, 5.0, 5.0, 4.0, 3.0, 4.0, 5.0, 5.0, 4.0, 4.0, 5.0, 5.0, 5.0, 4.0, 4.0, 4.0, 4.0, 5.0, 5.0, 3.0, 3.0, 5.0, 1.0, 4.0, 3.0, 4.0, 5.0, 5.0, 5.0, 5.0, 5.0, 4.0, 4.0, 5.0, 5.0, 4.0, 4.0, 3.0, 5.0, 2.0, 4.0, 5.0, 5.0, 5.0, 3.0, 4.0, 3.0, 3.0, 3.0, 5.0, 5.0, 5.0, 3.0, 5.0, 3.0, 4.0, 4.0, 4.0, 4.0, 4.0, 2.0, 4.0, 5.0, 4.0, 5.0, 4.0, 4.0, 5.0, 4.0, 4.0, 5.0, 3.0, 1.9, 4.8, 2.1, 3.55, 5.0, 5.0, 5.0, 5.0, 2.7, 4.8, 4.8, 3.75, 3.35, 3.75, 4.6, 3.0, 5.0, 3.0, 4.0, 2.0, 5.0, 4.0, 5.0, 5.0, 5.0, 5.0, 4.0, 5.0, 3.0, 3.0, 5.0, 3.0, 5.0, 5.0, 4.0, 5.0, 4.0, 5.0, 5.0, 4.0, 5.0, 4.0, 4.0, 4.0, 5.0, 5.0, 5.0, 5.0, 5.0, 4.0, 5.0, 3.0, 3.0, 3.0, 4.0, 4.0, 5.0, 4.0, 4.0, 4.0, 3.0, 5.0, 4.0, 4.0, 3.0, 5.0, 4.0, 5.0, 2.0, 5.0, 1.25, 2.5, 2.9, 1.0, 3.0, 1.0, 4.0, 5.0, 4.0, 5.0, 4.0, 1.0, 2.0, 3.0, 5.0, 3.0, 4.0, 5.0, 5.0, 2.0, 3.0, 4.0, 2.0, 3.0, 5.0, 4.0, 5.0, 4.0, 4.0, 2.0, 3.0, 3.0, 3.0, 2.0, 3.0, 2.0, 4.0, 5.0, 5.0, 5.0, 3.0, 5.0, 4.0, 1.0, 5.0, 4.0, 3.0, 4.0, 1.0, 5.0, 4.0, 4.0, 2.0, 5.0, 5.0, 4.0, 5.0, 4.0, 4.0, 5.0, 3.0, 5.0, 5.0, 5.0, 5.0, 4.0, 4.0, 2.0, 5.0, 5.0, 4.0, 5.0, 4.0, 4.0, 4.0, 4.0, 1.0, 3.0, 5.0, 5.0, 5.0, 3.0, 5.0, 5.0, 5.0, 4.0, 5.0, 5.0, 5.0, 4.0, 5.0, 4.0, 5.0, 5.0, 4.0, 1.0, 5.0, 5.0, 4.0, 5.0, 1.0, 5.0, 2.0, 4.0, 3.0, 2.0, 4.0, 5.0, 5.0, 5.0, 5.0, 3.0, 5.0, 2.0, 3.0, 5.0, 5.0, 5.0, 5.0, 5.0, 4.0, 5.0, 5.0, 5.0, 5.0, 5.0, 4.0, 4.0, 4.0, 1.0, 4.0, 4.0, 5.0, 3.0, 5.0, 5.0, 5.0, 4.0, 2.0, 3.0, 4.0, 3.0, 1.0, 5.0, 5.0, 4.0, 3.0, 5.0, 5.0, 4.0, 4.0, 4.0, 5.0, 5.0, 5.0, 4.0, 5.0, 5.0, 3.0, 2.0, 1.0, 4.0, 3.0, 3.0, 5.0, 1.0, 3.0, 5.0, 4.0, 2.0, 2.0, 3.0, 4.0, 2.0, 2.0, 4.0, 2.0, 1.0, 4.0, 1.0, 5.0, 1.0, 2.0, 4.0, 5.0, 3.0, 3.0, 5.0, 5.0, 5.0, 4.0, 4.0, 4.0, 2.0, 4.0, 2.0, 3.0, 4.0, 3.0, 4.0, 4.0, 4.0, 2.0, 5.0, 4.0, 2.0, 1.0, 3.0, 4.0, 4.0, 5.0, 5.0, 4.0, 4.0, 3.0, 3.0, 4.0, 5.0, 4.0, 2.0, 2.0, 5.0, 3.0, 5.0, 2.0, 4.0, 4.0, 3.0, 3.0, 5.0, 1.0, 2.0, 3.0, 4.0, 5.0, 4.0, 4.0, 3.0, 3.0, 5.0, 4.0, 3.0, 4.0, 4.0, 4.0, 3.0, 5.0, 5.0, 5.0, 5.0, 2.0, 5.0, 5.0, 5.0, 3.0, 4.0, 2.0, 5.0, 4.0, 4.0, 5.0, 5.0, 4.0, 5.0, 5.0, 4.0, 3.0, 1.0, 5.0, 4.0, 5.0, 5.0, 4.0, 3.0, 5.0, 5.0, 5.0, 5.0, 5.0, 5.0, 5.0, 1.0, 3.0, 2.0, 5.0, 5.0, 3.0, 5.0, 5.0, 5.0, 3.0, 5.0, 5.0, 5.0, 5.0, 3.0, 5.0, 5.0, 5.0, 4.0, 5.0, 5.0, 4.0, 3.0, 2.0, 5.0, 5.0, 5.0, 5.0, 4.0, 3.0, 5.0, 4.0, 5.0, 4.0, 1.0, 4.0, 5.0, 5.0, 5.0, 5.0, 1.0, 3.0, 4.0, 5.0, 4.0, 2.0, 5.0, 5.0, 5.0, 5.0, 4.0, 5.0, 5.0, 5.0, 4.0, 5.0, 3.0, 5.0, 5.0, 3.0, 5.0, 4.0, 3.0, 5.0, 5.0, 1.0, 5.0, 1.0, 5.0, 5.0, 5.0, 1.0, 4.0, 3.0, 5.0, 5.0, 4.0, 5.0, 5.0, 5.0, 3.0, 3.0, 5.0, 3.0, 1.0, 4.0, 5.0, 1.0, 2.0, 3.0, 3.0, 4.0, 4.0, 5.0, 4.0, 5.0, 5.0, 3.0, 4.0, 5.0, 5.0, 2.0, 4.0, 4.0, 5.0, 3.0, 2.0, 5.0, 2.0, 5.0, 4.0, 5.0, 4.0, 4.0, 2.0, 4.0, 4.0, 5.0, 5.0, 5.0, 3.0, 4.0, 5.0, 5.0, 5.0, 2.0, 5.0, 5.0, 4.0, 4.0, 5.0, 4.0, 5.0, 5.0, 5.0, 5.0, 5.0, 4.0, 3.0, 5.0, 5.0, 4.0, 4.0, 3.0, 4.0, 4.0, 3.0, 3.0, 5.0, 1.0, 2.0, 1.0, 4.0, 5.0, 4.0, 5.0, 5.0, 5.0, 2.0, 4.0, 5.0, 5.0, 4.0, 5.0, 5.0, 3.0, 5.0, 2.0, 5.0, 5.0, 5.0, 5.0, 5.0, 5.0, 4.0, 4.0, 5.0, 5.0, 5.0, 5.0, 4.0, 5.0, 4.0, 2.0, 5.0, 5.0, 1.0, 5.0, 2.0, 5.0, 2.0, 5.0, 5.0, 4.0, 5.0, 2.0, 5.0, 4.0, 5.0, 5.0, 5.0, 5.0, 4.0, 4.0, 4.0, 5.0, 5.0, 5.0, 4.0, 4.0, 4.0, 5.0, 5.0, 5.0, 5.0, 4.0, 2.0, 2.0, 5.0, 5.0, 5.0, 4.0, 5.0, 4.0, 5.0, 3.0, 1.0, 1.0, 5.0, 4.0, 5.0, 5.0, 5.0, 5.0, 4.0, 4.0, 4.0, 4.0, 4.0, 3.0, 3.0, 5.0, 4.0, 5.0, 5.0, 5.0, 3.0, 4.0, 5.0, 3.0, 5.0, 4.0, 1.0, 5.0, 5.0, 5.0, 3.0, 5.0, 5.0, 5.0, 5.0, 4.0, 5.0, 1.0, 4.0, 3.0, 5.0, 2.0, 4.0, 4.0, 4.0, 3.0, 4.0, 5.0, 5.0, 5.0, 5.0, 5.0, 5.0, 5.0, 5.0, 5.0, 2.0, 5.0, 5.0, 5.0, 4.0, 5.0, 5.0, 5.0, 3.0, 4.0, 4.0, 5.0, 5.0, 3.0, 5.0, 5.0, 5.0, 4.0, 4.0, 3.0, 5.0, 5.0, 5.0, 5.0, 5.0, 5.0, 5.0, 5.0, 4.0, 5.0, 5.0, 5.0, 5.0, 5.0, 1.0, 5.0, 5.0, 5.0, 4.0, 4.0, 4.0, 5.0, 3.0, 5.0, 5.0, 3.0, 3.0, 5.0, 4.0, 4.0, 4.0, 5.0, 5.0, 5.0, 5.0, 5.0, 4.0, 5.0, 5.0, 5.0, 4.0, 3.0, 1.0, 5.0, 5.0, 3.0, 5.0, 4.0, 4.0, 5.0, 5.0, 4.0, 5.0, 4.0, 2.0, 2.0, 1.0, 4.0, 3.0, 5.0, 5.0, 1.0, 5.0, 5.0, 5.0, 3.0, 3.0, 4.0, 5.0, 1.0, 1.0, 4.0, 4.0, 5.0, 4.0, 5.0, 5.0, 4.0, 4.0, 4.0, 3.0, 2.0, 5.0, 5.0, 1.0, 4.0, 4.0, 1.0, 3.0, 5.0, 4.0, 4.0, 5.0, 3.0, 4.0, 5.0, 1.0, 1.0, 4.0, 4.0, 5.0, 5.0, 5.0, 3.0, 5.0, 4.0, 2.0, 5.0, 5.0, 2.0, 5.0, 5.0, 5.0, 5.0, 5.0, 5.0, 5.0, 4.0, 3.0, 5.0, 5.0, 4.0, 5.0, 5.0, 1.0, 2.0, 3.0, 2.0, 3.0, 2.0, 4.0, 3.0, 4.0, 5.0, 5.0, 2.0, 5.0, 5.0, 4.0, 4.0, 3.0, 5.0, 5.0, 1.0, 2.0, 5.0, 4.0, 5.0, 1.0, 4.0, 3.0, 5.0, 4.0, 4.0, 5.0, 1.0, 3.0, 3.0, 4.0, 1.0, 5.0, 4.0, 5.0, 4.0, 5.0, 4.0, 5.0, 3.0, 4.0, 1.0, 5.0, 5.0, 3.0, 3.0, 5.0, 1.0, 3.0, 5.0, 5.0, 5.0, 5.0, 2.0, 4.0, 1.0, 4.0, 5.0, 4.0, 5.0, 3.0, 4.0, 5.0, 3.0, 5.0, 3.0, 3.0, 5.0, 5.0, 2.0, 4.0, 5.0, 5.0, 5.0, 3.0, 2.0, 3.0, 1.0, 3.0, 5.0, 3.0, 4.0, 5.0, 5.0, 4.0, 5.0, 2.0, 4.0, 4.0, 5.0, 4.0, 5.0, 1.0, 4.0, 4.0, 5.0, 3.0, 4.0, 4.0, 3.0, 1.0, 4.0, 5.0, 5.0, 2.0, 4.0, 5.0, 5.0, 4.0, 5.0, 4.0, 4.0, 3.0, 2.0, 5.0, 5.0, 1.0, 4.0, 5.0, 5.0, 2.0, 5.0, 4.0, 5.0, 4.0, 5.0, 4.0, 5.0, 2.0, 4.0, 5.0, 1.0, 1.0, 5.0, 5.0, 5.0, 1.0, 1.0, 3.0, 1.0, 2.0, 5.0, 3.0, 5.0, 5.0, 2.0, 1.0, 3.0, 4.0, 4.0, 2.0, 5.0, 4.0, 5.0, 4.0, 4.0, 4.0, 4.0, 5.0, 5.0, 5.0, 3.0, 1.0, 5.0, 5.0, 4.0, 5.0, 4.0, 5.0, 3.0, 5.0, 1.0, 2.0, 4.0, 4.0, 5.0, 5.0, 5.0, 3.0, 4.0, 1.0, 4.0, 2.0, 4.0, 1.0, 4.0, 4.0, 3.0]\n",
      "--------------------------------------------------------------------------------\n",
      "CLUSTER #6\n",
      "Key Features: ['room', 'hotel', 'stay', 'nice', 'great', 'place', 'good', 'breakfast', 'night', 'clean', 'stayed', 'time', 'staff', 'service', 'bed']\n",
      "Popular Ratings: [5.0, 5.0, 2.0, 5.0, 5.0, 5.0, 5.0, 1.0, 5.0, 2.0, 5.0, 5.0, 4.0, 4.0, 4.0, 4.0, 5.0, 5.0, 5.0, 3.0, 5.0, 5.0, 4.0, 5.0, 5.0, 5.0, 5.0, 5.0, 5.0, 4.0, 5.0, 5.0, 4.0, 5.0, 3.0, 5.0, 5.0, 5.0, 5.0, 5.0, 2.9, 5.0, 5.0, 4.6, 4.6, 5.0, 3.75, 3.95, 5.0, 3.55, 2.9, 4.15, 4.15, 2.1, 5.0, 3.95, 2.9, 5.0, 4.15, 1.65, 5.0, 5.0, 2.5, 2.9, 4.4, 4.15, 3.75, 5.0, 3.15, 2.7, 1.65, 1.45, 3.55, 4.4, 2.5, 5.0, 3.75, 5.0, 3.15, 3.75, 3.95, 3.55, 3.75, 3.15, 4.6, 5.0, 4.6, 5.0, 4.15, 2.7, 5.0, 5.0, 4.6, 4.15, 5.0, 3.95, 4.6, 4.6, 5.0, 5.0, 5.0, 5.0, 3.55, 5.0, 4.25, 4.4, 4.6, 5.0, 4.4, 1.25, 5.0, 5.0, 5.0, 5.0, 3.75, 4.6, 3.95, 5.0, 2.9, 3.95, 4.8, 5.0, 5.0, 5.0, 4.8, 4.6, 4.8, 4.8, 4.4, 3.55, 1.9, 3.75, 4.4, 3.75, 5.0, 4.8, 4.8, 5.0, 3.55, 1.45, 3.75, 3.95, 2.3, 3.75, 3.75, 5.0, 5.0, 4.6, 4.15, 3.95, 3.55, 5.0, 3.95, 5.0, 5.0, 4.4, 4.6, 5.0, 5.0, 5.0, 5.0, 5.0, 4.4, 4.8, 5.0, 3.55, 3.75, 3.75, 2.7, 5.0, 5.0, 4.4, 3.75, 4.8, 2.3, 2.5, 5.0, 4.8, 3.55, 3.75, 2.3, 4.8, 5.0, 3.55, 3.95, 3.15, 4.15, 5.0, 3.35, 4.6, 5.0, 4.15, 5.0, 5.0, 4.6, 3.75, 3.95, 2.7, 5.0, 3.75, 5.0, 4.8, 3.75, 3.75, 4.0, 5.0, 5.0, 5.0, 5.0, 5.0, 5.0, 4.4, 4.4, 5.0, 4.8, 4.8, 3.75, 4.6, 3.35, 4.8, 5.0, 3.75, 3.35, 4.4, 4.15, 5.0, 3.35, 2.7, 4.4, 5.0, 4.8, 5.0, 4.15, 5.0, 4.8, 5.0, 3.95, 4.8, 5.0, 5.0, 3.75, 4.15, 5.0, 5.0, 4.8, 5.0, 4.8, 4.8, 4.8, 5.0, 4.8, 4.4, 4.15, 5.0, 5.0, 3.75, 5.0, 4.8, 5.0, 3.75, 5.0, 4.6, 5.0, 4.4, 5.0, 5.0, 3.75, 4.6, 2.3, 4.6, 4.8, 3.15, 4.15, 5.0, 2.5, 4.8, 2.7, 4.8, 4.6, 4.8, 4.6, 5.0, 5.0, 5.0, 4.6, 3.75, 5.0, 2.9, 5.0, 1.0, 5.0, 4.0, 5.0, 4.0, 3.0, 5.0, 4.0, 5.0, 2.0, 5.0, 2.0, 5.0, 4.0, 5.0, 5.0, 5.0, 2.0, 5.0, 1.0, 1.0, 3.0, 4.0, 1.0, 1.0, 3.0, 4.0, 5.0, 4.0, 1.0, 3.0, 3.0, 3.0, 2.0, 1.0, 5.0, 5.0, 4.0, 2.0, 5.0, 4.0, 5.0, 3.0, 3.0, 5.0, 5.0, 4.0, 5.0, 4.0, 4.0, 5.0, 5.0, 4.8, 4.6, 3.35, 4.8, 5.0, 2.0, 3.0, 5.0, 5.0, 3.0, 3.0, 4.0, 5.0, 3.0, 5.0, 1.0, 2.0, 5.0, 1.0, 4.0, 1.0, 1.0, 1.0, 5.0, 2.0, 3.0, 5.0, 2.0, 5.0, 4.0, 2.0, 4.0, 5.0, 4.0, 2.0, 5.0, 4.0, 5.0, 3.0, 4.0, 1.0, 1.0, 4.0, 3.0, 1.0, 4.0, 4.0, 2.0, 2.0, 5.0, 3.0, 4.0, 5.0, 4.0, 5.0, 5.0, 5.0, 5.0, 2.0, 5.0, 5.0, 4.0, 5.0, 4.0, 1.0, 4.0, 4.0, 5.0, 4.0, 5.0, 5.0, 4.0, 4.0, 1.0, 1.0, 1.0, 3.0, 5.0, 4.0, 5.0, 2.0, 5.0, 5.0, 4.0, 4.0, 4.0, 5.0, 1.0, 3.0, 5.0, 5.0, 5.0, 5.0, 3.0, 3.0, 4.0, 5.0, 5.0, 5.0, 4.0, 3.75, 2.3, 4.8, 3.95, 5.0, 4.15, 1.65, 4.0, 5.0, 3.0, 5.0, 5.0, 4.0, 5.0, 5.0, 5.0, 5.0, 5.0, 4.0, 5.0, 4.0, 5.0, 5.0, 5.0, 3.0, 5.0, 4.0, 5.0, 5.0, 5.0, 1.0, 5.0, 5.0, 4.0, 5.0, 4.0, 5.0, 1.0, 5.0, 5.0, 5.0, 5.0, 5.0, 5.0, 5.0, 5.0, 5.0, 5.0, 4.0, 5.0, 4.0, 5.0, 2.0, 5.0, 5.0, 5.0, 5.0, 5.0, 3.0, 5.0, 5.0, 4.0, 5.0, 5.0, 4.0, 5.0, 2.0, 4.0, 5.0, 5.0, 5.0, 5.0, 5.0, 5.0, 3.0, 1.0, 4.0, 5.0, 5.0, 5.0, 4.0, 5.0, 4.0, 5.0, 4.0, 4.0, 1.0, 1.0, 5.0, 4.0, 1.0, 4.0, 5.0, 5.0, 5.0, 5.0, 5.0, 5.0, 5.0, 4.0, 1.0, 4.6, 4.15, 2.7, 2.0, 3.0, 3.0, 4.0, 5.0, 1.0, 1.0, 5.0, 5.0, 5.0, 5.0, 3.0, 5.0, 3.0, 1.0, 1.0, 1.0, 1.0, 3.0, 2.0, 3.0, 3.0, 5.0, 3.0, 2.0, 1.0, 4.0, 4.0, 4.0, 4.0, 3.0, 5.0, 5.0, 1.0, 5.0, 5.0, 3.0, 2.0, 1.0, 1.0, 5.0, 5.0, 5.0, 5.0, 4.0, 4.0, 4.0, 5.0, 2.0, 5.0, 5.0, 5.0, 5.0, 5.0, 5.0, 5.0, 5.0, 2.0, 5.0, 5.0, 5.0, 4.0, 4.0, 5.0, 5.0, 3.0, 5.0, 3.0, 2.0, 1.0, 2.0, 5.0, 5.0, 4.0, 5.0, 5.0, 5.0, 3.0, 5.0, 1.0, 3.0, 4.0, 4.0, 2.0, 1.0, 2.0, 5.0, 5.0, 2.0, 4.0, 5.0, 1.0, 3.0, 4.0, 1.0, 1.0, 4.0, 1.0, 1.0, 3.0, 2.0, 5.0, 5.0, 5.0, 5.0, 5.0, 4.0, 5.0, 5.0, 1.0, 3.0, 5.0, 5.0, 5.0, 4.0, 4.0, 4.0, 5.0, 1.0, 2.0, 3.0, 5.0, 5.0, 3.0, 4.0, 4.0, 5.0, 5.0, 3.0, 2.0, 1.0, 5.0, 4.0, 5.0, 4.0, 2.0, 4.0, 2.0, 5.0, 5.0, 5.0, 5.0, 5.0, 5.0, 1.0, 4.0, 4.0, 3.0, 5.0, 4.0, 2.0, 5.0, 5.0, 3.0, 5.0, 5.0, 4.0, 5.0, 5.0, 5.0, 5.0, 5.0, 5.0, 5.0, 2.0, 1.0, 3.0, 3.0, 1.0, 4.0, 1.0, 5.0, 4.0, 4.0, 5.0, 5.0, 4.0, 5.0, 5.0, 4.0, 5.0, 5.0, 2.0, 5.0, 5.0, 3.0, 5.0, 5.0, 5.0, 5.0, 5.0, 5.0, 3.0, 4.0, 2.0, 1.0, 4.0, 4.0, 4.0, 3.0, 2.0, 3.0, 5.0, 5.0, 5.0, 4.0, 3.0, 3.0, 1.0, 3.0, 5.0, 4.0, 1.0, 5.0, 4.0, 5.0, 4.0, 4.0, 5.0, 5.0, 2.0, 5.0, 4.0, 5.0, 5.0, 4.0, 3.0, 5.0, 3.0, 3.0, 4.0, 2.0, 4.0, 5.0, 5.0, 5.0, 4.0, 4.0, 5.0, 5.0, 5.0, 4.0, 1.0, 3.0, 4.0, 3.0, 4.0, 4.0, 5.0, 4.0, 5.0, 4.0, 2.0, 3.0, 3.0, 5.0, 4.0, 5.0, 5.0, 3.0, 5.0, 4.0, 5.0, 5.0, 4.0, 4.0, 5.0, 3.0, 4.0, 2.0, 2.0, 5.0, 5.0, 4.0, 2.0, 3.0, 1.0, 5.0, 1.0, 1.0, 4.0, 4.0, 2.0, 1.0, 3.0, 4.0, 5.0, 5.0, 4.0, 2.0, 5.0, 5.0, 5.0, 5.0, 5.0, 5.0, 5.0, 5.0, 3.0, 4.0, 5.0, 4.0, 5.0, 4.0, 2.0, 3.0, 2.0, 2.0, 3.0, 3.0, 2.0, 3.0, 1.0, 5.0, 5.0, 4.0, 5.0, 4.6, 5.0, 4.0, 1.0, 4.0, 2.0, 1.0, 3.0, 5.0, 5.0, 4.0, 4.0, 3.0, 4.0, 4.0, 5.0, 5.0, 5.0, 5.0, 5.0, 5.0, 5.0, 5.0, 3.0, 4.0, 5.0, 5.0, 4.0, 4.0, 3.0, 5.0, 3.0, 5.0, 3.0, 4.0, 3.0, 5.0, 5.0, 5.0, 5.0, 5.0, 5.0, 5.0, 3.0, 5.0, 5.0, 4.0, 4.0, 5.0, 5.0, 5.0, 5.0, 5.0, 5.0, 5.0, 5.0, 4.0, 5.0, 5.0, 5.0, 3.0, 4.0, 5.0, 5.0, 4.0, 5.0, 5.0, 5.0, 5.0, 3.0, 5.0, 5.0, 5.0, 4.0, 5.0, 3.0, 5.0, 5.0, 3.0, 5.0, 4.0, 5.0, 4.0, 5.0, 5.0, 4.0, 4.0, 3.0, 4.0, 3.0, 5.0, 3.0, 4.0, 4.0, 5.0, 4.0, 5.0, 2.0, 5.0, 5.0, 4.0, 5.0, 5.0, 4.0, 5.0, 5.0, 5.0, 4.0, 5.0, 4.0, 4.0, 5.0, 5.0, 5.0, 4.0, 5.0, 5.0, 2.0, 4.15, 4.8, 3.75, 3.75, 5.0, 4.6, 4.8, 4.6, 4.15, 3.75, 4.8, 3.15, 5.0, 3.55, 5.0, 5.0, 4.4, 4.8, 4.6, 2.7, 5.0, 4.15, 3.15, 4.4, 5.0, 4.4, 3.35, 4.6, 4.6, 5.0, 3.0, 4.0, 5.0, 4.0, 5.0, 5.0, 4.6, 4.0, 5.0, 1.0, 5.0, 3.55, 3.0, 5.0, 3.0, 5.0, 3.75, 2.7, 3.15, 3.55, 5.0, 4.8, 2.5, 5.0, 5.0, 3.75, 4.6, 5.0, 5.0, 3.35, 3.15, 3.15, 5.0, 4.8, 4.4, 4.15, 5.0, 3.35, 4.6, 5.0, 4.6, 3.55, 5.0, 3.95, 4.8, 5.0, 3.95, 4.0, 4.0, 3.0, 4.0, 4.0, 4.0, 3.0, 5.0, 5.0, 4.0, 4.0, 2.0, 5.0, 5.0, 5.0, 4.0, 2.0, 3.0, 5.0, 5.0, 5.0, 5.0, 5.0, 3.0, 4.0, 5.0, 5.0, 5.0, 5.0, 5.0, 5.0, 5.0, 5.0, 3.0, 4.0, 4.0, 4.0, 5.0, 3.0, 5.0, 3.0, 2.0, 5.0, 2.0, 4.0, 5.0, 5.0, 4.0, 5.0, 5.0, 5.0, 4.0, 5.0, 5.0, 5.0, 5.0, 5.0, 4.0, 5.0, 1.0, 5.0, 4.0, 1.0, 5.0, 4.0, 5.0, 5.0, 5.0, 5.0, 5.0, 5.0, 3.0, 3.0, 3.0, 3.0, 4.0, 5.0, 5.0, 5.0, 4.0, 5.0, 5.0, 5.0, 5.0, 3.0, 4.0, 4.0, 1.0, 3.0, 5.0, 3.0, 4.0, 5.0, 3.0, 1.0, 5.0, 2.0, 3.0, 4.0, 3.0, 4.0, 4.0, 4.0, 5.0, 5.0, 5.0, 5.0, 5.0, 4.8, 4.6, 4.8, 2.7, 3.55, 5.0, 5.0, 3.95, 5.0, 4.8, 5.0, 4.6, 3.75, 2.9, 3.95, 4.6, 5.0, 5.0, 4.0, 2.0, 1.0, 4.0, 3.0, 5.0, 3.0, 2.0, 5.0, 1.0, 3.0, 1.0, 3.0, 4.0, 3.0, 2.0, 5.0, 2.0, 4.0, 4.0, 3.0, 3.0, 1.0, 1.0, 5.0, 5.0, 3.0, 4.0, 1.0, 5.0, 5.0, 4.0, 4.0, 3.0, 4.0, 4.0, 3.0, 2.0, 3.0, 4.0, 3.0, 4.0, 3.0, 5.0, 4.0, 5.0, 4.0, 3.0, 4.0, 3.0, 4.0, 3.0, 4.0, 4.0, 3.0, 1.0, 4.0, 4.0, 4.0, 5.0, 3.0, 1.0, 5.0, 4.0, 3.0, 1.0, 4.0, 4.0, 3.0, 4.0, 4.0, 5.0, 3.0, 4.0, 4.0, 5.0, 3.0, 4.0, 3.0, 5.0, 5.0, 1.0, 5.0, 5.0, 5.0, 5.0, 5.0, 4.0, 5.0, 1.0, 5.0, 5.0, 5.0, 4.0, 5.0, 3.0, 4.0, 1.0, 4.0, 5.0, 3.0, 1.0, 2.0, 5.0, 4.0, 5.0, 5.0, 4.0, 1.0, 5.0, 3.0, 5.0, 5.0, 3.0, 3.0, 5.0, 4.0, 1.0, 2.0, 5.0, 4.0, 4.0, 1.0, 5.0, 5.0, 3.0, 5.0, 5.0, 5.0, 4.0, 4.0, 2.0, 5.0, 4.0, 5.0, 5.0, 5.0, 5.0, 5.0, 5.0, 5.0, 4.0, 1.0, 3.0, 1.0, 4.0, 2.0, 5.0, 1.0, 5.0, 5.0, 4.0, 5.0, 5.0, 4.0, 5.0, 5.0, 4.0, 4.0, 2.0, 4.0, 4.0, 5.0, 3.0, 5.0, 4.0, 4.0, 5.0, 4.0, 4.0, 2.0, 4.0, 3.0, 5.0, 3.0, 3.0, 1.0, 2.0, 1.0, 4.0, 2.0, 3.0, 1.0, 5.0, 4.0, 5.0, 1.0, 5.0, 5.0, 5.0, 3.0, 2.0, 5.0, 5.0, 4.0, 3.0, 5.0, 5.0, 3.0, 4.0, 4.0, 5.0, 5.0, 2.0, 5.0, 5.0, 4.0, 4.0, 5.0, 5.0, 5.0, 5.0, 5.0, 5.0, 3.0, 3.0, 5.0, 5.0, 5.0, 3.0, 5.0, 5.0, 5.0, 4.0, 5.0, 5.0, 5.0, 5.0, 5.0, 3.0, 5.0, 5.0, 5.0, 5.0, 5.0, 5.0, 2.0, 3.0, 3.0, 3.0, 5.0, 4.0, 4.0, 4.0, 5.0, 5.0, 5.0, 5.0, 5.0, 5.0, 5.0, 5.0, 5.0, 5.0, 5.0, 5.0, 4.0, 4.0, 5.0, 5.0, 5.0, 3.0, 5.0, 5.0, 5.0, 5.0, 5.0, 5.0, 2.0, 5.0, 5.0, 5.0, 5.0, 3.0, 3.0, 4.0, 3.0, 4.0, 5.0, 5.0, 5.0, 5.0, 5.0, 5.0, 5.0, 5.0, 5.0, 5.0, 5.0, 5.0, 3.0, 2.0, 4.0, 4.0, 1.0, 3.0, 1.0, 2.0, 3.0, 4.0, 1.0, 5.0, 3.0, 2.0, 5.0, 4.0, 3.0, 3.0, 1.0, 3.0, 5.0, 5.0, 5.0, 4.0, 3.0, 3.0, 5.0, 3.0, 4.0, 5.0, 3.0, 5.0, 4.0, 4.0, 5.0, 4.0, 5.0, 2.0, 4.0, 2.0, 2.0, 3.0, 4.0, 4.0, 4.0, 4.0, 5.0, 4.0, 1.0, 4.0, 3.0, 4.0, 3.0, 4.0, 5.0, 3.0, 3.0, 5.0, 3.0, 5.0, 2.0, 3.0, 4.0, 5.0, 4.0, 3.0, 5.0, 4.0, 4.0, 5.0, 3.0, 3.0, 5.0, 5.0, 2.0, 5.0, 5.0, 5.0, 5.0, 5.0, 5.0, 5.0, 5.0, 5.0, 5.0, 5.0, 5.0, 5.0, 5.0, 5.0, 5.0, 5.0, 2.0, 5.0, 4.0, 5.0, 5.0, 5.0, 2.0, 4.0, 5.0, 3.0, 3.0, 5.0, 3.0, 3.0, 3.0, 5.0, 4.0, 5.0, 3.0, 2.0, 5.0, 3.0, 4.0, 2.0, 3.0, 3.0, 2.0, 3.0, 3.0, 5.0, 5.0, 3.0, 2.0, 4.0, 4.0, 4.0, 1.0, 2.0, 3.0, 1.0, 1.0, 3.0, 4.0, 2.0, 2.0, 3.0, 2.0, 3.0, 4.0, 3.0, 5.0, 4.0, 2.0, 5.0, 3.0, 3.0, 3.0, 4.0, 2.0, 4.0, 4.0, 5.0, 5.0, 2.0, 4.0, 4.0, 5.0, 5.0, 5.0, 1.0, 2.0, 4.0, 5.0, 5.0, 4.0, 5.0, 5.0, 4.0, 3.0, 3.0, 3.0, 4.0, 3.0, 3.0, 5.0, 3.0, 3.0, 1.0, 1.0, 4.0, 4.0, 4.0, 2.0, 4.0, 3.0, 3.0, 1.0, 3.0, 3.0, 4.0, 5.0, 4.0, 5.0, 3.0, 5.0, 4.0, 1.0, 4.0, 5.0, 5.0, 5.0, 3.0, 4.0, 4.0, 3.0, 5.0, 2.0, 4.0, 3.0, 4.0, 4.0, 2.0, 2.0, 4.0, 2.0, 4.0, 1.0, 4.0, 4.0, 5.0, 2.0, 5.0, 4.0, 5.0, 5.0, 4.0, 3.0, 5.0, 3.0, 5.0, 4.0, 3.0, 5.0, 3.0, 5.0, 5.0, 3.0, 3.0, 4.0, 4.0, 5.0, 4.0, 5.0, 4.0, 3.0, 5.0, 4.0, 3.0, 1.0, 2.0, 4.0, 4.0, 5.0, 4.0, 2.0, 1.0, 2.0, 4.0, 5.0, 3.0, 2.0, 5.0, 4.0, 4.0, 5.0, 5.0, 3.0, 5.0, 5.0, 4.0, 5.0, 5.0, 4.0, 3.0, 4.0, 5.0, 5.0, 5.0, 1.0, 5.0, 5.0, 1.0, 5.0, 3.0, 4.0, 4.0, 5.0, 5.0, 3.0, 4.0, 4.0, 5.0, 2.0, 4.0, 5.0, 5.0, 4.0, 1.0, 5.0, 5.0, 4.0, 3.0, 5.0, 4.0, 1.0, 2.0, 1.0, 5.0, 3.0, 4.0, 5.0, 5.0, 5.0, 5.0, 5.0, 4.0, 3.0, 5.0, 1.0, 4.0, 3.0, 4.0, 5.0, 2.0, 2.0, 4.0, 1.0, 5.0, 3.0, 2.0, 1.0, 5.0, 5.0, 4.0, 4.0, 4.0, 4.0, 5.0, 4.0, 4.0, 2.0, 1.0, 3.0, 4.0, 5.0, 5.0, 2.0, 3.0, 4.0, 3.0, 3.0, 5.0, 2.0, 2.0, 3.0, 1.0, 2.0, 3.0, 2.0, 5.0, 2.0, 4.0, 2.0, 3.0, 4.0, 5.0, 4.0, 3.0, 5.0, 5.0, 2.0, 5.0, 3.0, 5.0, 2.0, 5.0, 4.0, 3.0, 1.0, 3.0, 5.0, 5.0, 5.0, 5.0, 4.0, 5.0, 4.0, 5.0, 3.0, 3.0, 5.0, 3.0, 2.0, 4.0, 4.0, 5.0, 3.0, 5.0, 2.0, 5.0, 5.0, 1.0, 5.0, 5.0, 3.0, 5.0, 5.0, 5.0, 5.0, 4.0, 2.0, 5.0, 5.0, 5.0, 3.0, 4.0, 4.0, 3.0, 5.0, 2.0, 5.0, 5.0, 5.0, 2.0, 3.0, 5.0, 5.0, 5.0, 2.0, 5.0, 5.0, 5.0, 5.0, 1.0, 5.0, 1.0, 4.0, 3.0, 5.0, 5.0, 2.0, 5.0, 5.0, 5.0, 2.0, 4.0, 4.0, 3.0, 5.0, 5.0, 2.0, 3.0, 5.0, 5.0, 4.0, 4.0, 5.0, 4.0, 5.0, 3.0, 3.0, 1.0, 4.0, 3.0, 1.0, 5.0, 5.0, 4.0, 5.0, 5.0, 5.0, 3.0, 4.0, 5.0, 4.0, 5.0, 5.0, 1.0, 1.0, 4.0, 1.0, 5.0, 1.0, 2.0, 5.0, 5.0, 1.0, 1.0, 1.0, 5.0, 5.0, 1.0, 2.0, 3.0, 5.0, 5.0, 5.0, 4.0, 4.0, 4.0, 5.0, 4.0, 4.0, 5.0, 5.0, 4.0, 4.0, 4.0, 5.0, 5.0, 5.0, 5.0, 2.0, 4.0, 5.0, 1.0, 1.0, 3.0, 5.0, 5.0, 2.0, 4.0, 4.0, 4.0, 4.0, 3.0, 1.0, 1.0, 3.0, 3.0, 1.0, 5.0, 5.0, 5.0, 4.0, 5.0, 4.0, 1.0, 2.0, 2.0, 3.0, 5.0, 4.0, 3.0, 3.0, 3.0, 2.0, 3.0, 5.0, 4.0, 5.0, 4.0, 4.0, 5.0, 5.0, 4.0, 4.0, 3.0, 5.0, 5.0, 3.0, 5.0, 2.0, 4.0, 4.0, 4.0, 1.0, 3.0, 1.0, 2.0, 5.0, 5.0, 5.0, 4.0, 5.0, 5.0, 5.0, 1.0, 4.0, 5.0, 5.0, 5.0, 5.0, 5.0, 5.0, 4.0, 4.0, 5.0, 5.0, 5.0, 5.0, 5.0, 5.0, 3.0, 5.0, 5.0, 5.0, 5.0, 5.0, 5.0, 4.0, 5.0, 4.0, 2.0, 5.0, 4.0, 5.0, 3.0, 5.0, 4.0, 3.0, 5.0, 5.0, 5.0, 5.0, 4.0, 5.0, 5.0, 5.0, 5.0, 5.0, 1.0, 5.0, 3.0, 1.0, 1.0, 3.0, 3.0, 1.0, 1.0, 3.0, 1.0, 5.0, 1.0, 3.0, 4.0, 5.0, 5.0, 4.0, 5.0, 5.0, 4.0, 4.0, 2.0, 4.0, 3.0, 4.0, 3.0, 2.0, 5.0, 4.0, 1.0, 1.0, 3.0, 5.0, 5.0, 5.0, 4.0, 5.0, 5.0, 4.0, 3.0, 5.0, 4.0, 4.0, 4.0, 3.0, 4.0, 5.0, 4.0, 5.0, 5.0, 1.0, 1.0, 5.0, 5.0, 1.0, 3.0, 4.0, 5.0, 2.0, 5.0, 2.0, 5.0, 5.0, 5.0, 4.0, 5.0, 4.0, 5.0, 3.0, 4.0, 5.0, 5.0, 5.0, 4.0, 5.0, 5.0, 2.0, 5.0, 4.0, 2.0, 5.0, 5.0, 5.0, 5.0, 5.0, 5.0, 5.0, 2.0, 5.0, 5.0, 4.0, 3.0, 5.0, 4.0, 1.0, 2.0, 5.0, 3.0, 4.0, 2.0, 3.0, 3.0, 5.0, 4.0, 4.0, 1.0, 4.0, 5.0, 5.0, 5.0, 4.0, 4.0, 5.0, 3.0, 3.0, 3.0, 5.0, 1.0, 3.0, 5.0, 2.0, 5.0, 5.0, 5.0, 3.0, 3.0, 5.0, 4.0, 4.0, 2.0, 5.0, 5.0, 5.0, 5.0, 2.0, 4.0, 3.0, 5.0, 5.0, 5.0, 4.0, 5.0, 5.0, 3.0, 5.0, 5.0, 2.0, 5.0, 3.0, 5.0, 5.0, 5.0, 4.0, 5.0, 5.0, 5.0, 1.0, 4.0, 3.0, 5.0, 4.0, 5.0, 5.0, 5.0, 5.0, 5.0, 5.0, 3.0, 1.0, 1.0, 1.0, 1.0, 5.0, 1.0, 5.0, 5.0, 4.0, 1.0, 5.0, 3.0, 5.0, 3.0, 4.0, 4.0, 1.0, 5.0, 2.0, 5.0, 1.0, 5.0, 3.0, 4.0, 3.0, 4.0, 5.0, 3.0, 5.0, 1.0, 1.0, 1.0, 3.0, 5.0, 4.0, 5.0, 5.0, 3.0, 5.0, 4.0, 4.0, 5.0, 3.0, 3.0, 5.0, 5.0, 1.0, 2.0, 4.0, 5.0, 5.0, 5.0, 2.0, 5.0, 5.0, 5.0, 4.0, 4.0, 4.0, 4.0, 5.0, 5.0, 3.0, 5.0, 4.0, 5.0, 5.0, 5.0, 4.0, 5.0, 4.0, 3.0, 4.0, 4.0, 2.0, 5.0, 2.0, 3.0, 5.0, 4.0, 4.0, 3.0, 4.0, 4.0, 4.0, 5.0, 1.0, 2.0, 3.0, 5.0, 4.0, 4.0, 5.0, 5.0, 5.0, 4.0, 4.0, 4.0, 3.0, 5.0, 5.0, 5.0, 4.0, 4.0, 5.0, 4.0, 5.0, 5.0, 1.0, 3.0, 5.0, 4.0, 5.0, 1.0, 4.0, 1.0, 4.0, 5.0, 4.0, 3.0, 5.0, 4.0, 3.0, 5.0, 4.0, 4.0, 5.0, 2.0, 4.0, 4.0, 5.0, 5.0, 3.0, 3.0, 5.0, 4.0, 3.0, 1.0, 4.0, 2.0, 4.0, 1.0, 1.0, 4.0, 5.0, 5.0, 5.0, 5.0, 4.0, 1.0, 4.0, 4.0, 5.0, 4.0, 3.0, 4.0, 5.0, 4.0, 3.0, 5.0, 5.0, 5.0, 4.0, 4.0, 5.0, 3.0, 5.0, 4.0, 3.0, 4.0, 5.0, 1.0, 2.0, 5.0, 2.0, 3.0, 5.0, 2.0, 5.0, 5.0, 5.0, 5.0, 5.0, 5.0, 5.0, 2.0, 1.0, 3.0, 2.0, 2.0, 5.0, 5.0, 4.0, 1.0, 3.0, 1.0, 5.0, 5.0, 5.0, 5.0, 4.0, 5.0, 5.0, 5.0, 1.0, 1.0, 4.0, 5.0, 5.0, 2.0, 4.0, 4.0, 4.0, 5.0, 3.0, 3.0, 1.0, 3.0, 2.0, 2.0, 5.0, 3.0, 1.0, 5.0, 4.0, 4.0, 5.0, 3.0, 5.0, 5.0, 1.0, 1.0, 1.0, 5.0, 3.0, 5.0, 5.0, 3.0, 2.0, 1.0, 5.0, 3.0, 4.0, 1.0, 1.0, 5.0, 5.0, 2.0, 1.0, 3.0, 2.0, 5.0, 4.0, 5.0, 1.0, 5.0, 5.0, 4.0, 4.0, 5.0, 5.0, 4.0, 2.0, 4.0, 5.0, 5.0, 3.0, 4.0, 5.0, 1.0, 4.0, 5.0, 4.0, 5.0, 4.0, 4.0, 5.0, 5.0, 5.0, 5.0, 1.0, 1.0, 2.0, 5.0, 5.0, 5.0, 1.0, 4.0, 1.0, 5.0, 3.0, 3.0, 4.0, 3.0, 5.0, 5.0, 1.0, 5.0, 5.0, 5.0, 5.0, 2.0, 5.0, 4.0, 4.0, 5.0, 5.0, 4.0, 5.0, 5.0, 4.0, 5.0, 4.0, 4.0, 4.0, 5.0, 4.0, 4.0, 3.0, 4.0, 5.0, 3.0, 5.0, 1.0, 3.0, 4.0, 3.0, 5.0, 4.0, 5.0, 5.0, 2.0, 4.0, 3.0, 4.0, 5.0, 5.0, 3.0, 5.0, 2.0, 5.0, 5.0, 3.0, 4.0, 3.0, 5.0, 5.0, 5.0, 5.0, 1.0, 1.0, 4.0, 4.0, 5.0, 5.0, 5.0, 2.0, 5.0, 5.0, 5.0, 5.0, 5.0, 4.0, 5.0, 4.0, 5.0, 5.0, 2.0, 5.0, 4.0, 3.0, 4.0, 5.0, 4.0, 5.0, 5.0, 4.0, 4.0, 4.0, 4.0, 4.0, 5.0, 4.0, 5.0, 5.0, 3.0, 3.0, 5.0, 5.0, 3.0, 4.0, 4.0, 5.0, 5.0, 1.0, 3.0, 5.0, 1.0, 5.0, 5.0, 5.0, 4.0, 5.0, 4.0, 5.0, 4.0, 3.0, 5.0, 1.0, 3.0, 2.0, 2.0, 4.0, 5.0, 4.0, 1.0, 5.0, 3.0, 5.0, 5.0, 5.0, 1.0, 1.0, 4.0, 4.0, 4.0, 3.0, 5.0, 4.0, 5.0, 2.0, 2.0, 5.0, 5.0, 5.0, 4.0, 5.0, 4.0, 3.0, 2.0, 1.0, 5.0, 5.0, 5.0, 5.0, 4.0, 5.0, 5.0, 4.0, 4.0, 3.0, 1.0, 3.0, 5.0, 2.0, 1.0, 3.0, 3.0, 5.0, 4.0, 1.0, 3.0, 1.0, 1.0, 2.0, 3.0, 5.0, 2.0, 1.0, 1.0, 1.0, 4.0, 4.0, 4.0, 3.0, 4.0, 4.0, 5.0, 5.0, 5.0, 2.0, 2.0, 4.0, 3.0, 3.0, 4.0, 4.0, 1.0, 5.0, 4.0, 2.0, 1.0, 4.0, 3.0, 4.0, 5.0, 4.0, 5.0, 5.0, 4.0, 4.0, 4.0, 5.0, 4.0, 2.0, 5.0, 3.0, 5.0, 1.0, 5.0, 4.0, 1.0, 3.0, 5.0, 5.0, 5.0, 5.0, 1.0, 3.0, 4.0, 5.0, 5.0, 5.0, 3.0, 2.0, 3.0, 2.0, 5.0, 3.0, 4.0, 2.0, 5.0, 3.0, 5.0, 3.0, 1.0, 3.0, 1.0, 3.0, 4.0, 4.0, 5.0, 4.0, 5.0, 3.0, 5.0, 5.0, 5.0, 4.0, 4.0, 3.0, 5.0, 1.0, 2.0, 3.0, 2.0, 4.0, 1.0, 4.0, 1.0, 1.0, 2.0, 1.0, 2.0, 5.0, 3.0, 2.0, 4.0, 4.0, 3.0, 5.0, 3.0, 1.0, 5.0, 2.0, 2.0, 5.0, 3.0, 4.0, 3.0, 5.0, 4.0, 3.0, 4.0, 4.0, 4.0, 3.0, 5.0, 1.0, 4.0, 5.0, 5.0, 4.0, 5.0, 5.0, 5.0, 1.0, 4.0, 4.0, 5.0, 1.0, 3.0, 3.0, 4.0, 5.0, 5.0, 1.0, 1.0, 5.0, 1.0, 4.0, 5.0, 1.0, 1.0, 5.0, 4.0, 1.0, 4.0, 5.0, 5.0, 4.0, 3.0, 1.0, 4.0, 4.0, 2.0, 2.0, 3.0, 4.0, 2.0, 5.0, 3.0, 2.0, 5.0, 2.0, 5.0, 5.0, 5.0, 2.0, 1.0, 5.0, 3.0, 3.0, 2.0, 2.0, 4.0, 1.0, 5.0, 5.0, 3.0, 5.0, 5.0, 5.0, 5.0, 3.0, 3.0, 1.0, 5.0, 2.0, 5.0, 4.0, 5.0, 1.0, 5.0, 4.0, 3.0, 5.0, 5.0, 4.0, 3.0, 5.0, 5.0, 5.0, 5.0, 1.0, 3.0, 4.0, 4.0, 3.0, 1.0, 5.0, 1.0, 4.0, 5.0, 1.0, 2.0, 5.0, 5.0, 3.0, 1.0, 3.0, 5.0, 3.0, 3.0, 2.0, 3.0, 2.0, 4.0, 5.0, 5.0, 5.0, 3.0, 4.0, 4.0, 5.0, 3.0, 3.0, 4.0, 3.0, 5.0, 3.0, 1.0, 5.0, 1.0, 4.0, 5.0, 1.0, 5.0, 5.0, 5.0, 5.0, 5.0, 4.0, 1.0, 5.0, 5.0, 5.0, 3.0, 4.0, 5.0, 5.0, 2.0, 2.0, 4.0, 4.0, 5.0, 5.0, 5.0, 4.0, 5.0, 5.0, 5.0, 5.0, 5.0, 4.0, 5.0, 3.0, 1.0, 5.0, 1.0, 4.0, 2.0, 3.0, 2.0, 1.0, 1.0, 4.0, 5.0, 2.0, 5.0, 1.0, 4.0, 4.0, 2.0, 5.0, 1.0, 1.0, 5.0, 1.0, 2.0, 5.0, 3.0, 5.0, 5.0, 5.0, 3.0, 5.0, 4.0, 3.0, 4.0, 2.0, 4.0, 5.0, 5.0, 2.0, 3.0, 4.0, 4.0, 4.0, 5.0, 5.0, 4.0, 3.0, 4.0, 1.0, 5.0, 2.0, 4.0, 2.0, 4.0, 5.0, 5.0, 5.0, 5.0, 5.0, 5.0, 5.0, 4.0, 1.0, 5.0, 1.0, 1.0, 5.0, 5.0, 5.0, 5.0, 5.0, 4.0, 3.0, 4.0, 4.0, 4.0, 3.0, 5.0, 1.0, 1.0]\n",
      "--------------------------------------------------------------------------------\n",
      "CLUSTER #7\n",
      "Key Features: ['room', 'hotel', 'stay', 'staff', 'nice', 'time', 'great', 'good', 'desk', 'night', 'breakfast', 'clean', 'bed', 'like', 'service']\n",
      "Popular Ratings: [4.0, 5.0, 2.9, 4.6, 4.6, 2.3, 3.95, 2.9, 4.6, 5.0, 5.0, 4.6, 4.4, 2.1, 2.7, 5.0, 4.0, 4.0, 5.0, 3.95, 5.0, 2.3, 2.0, 4.8, 2.3, 5.0, 4.0, 3.0, 5.0, 5.0, 4.0, 4.0, 4.0, 5.0, 4.0, 5.0, 4.0, 3.0, 1.0, 3.0, 5.0, 5.0, 4.0, 1.0, 4.0, 3.0, 3.0, 2.0, 3.0, 5.0, 2.0, 3.0, 4.0, 3.0, 5.0, 5.0, 4.0, 3.0, 3.0, 3.0, 4.0, 4.0, 2.0, 5.0, 4.0, 4.0, 5.0, 4.0, 2.0, 3.0, 4.0, 3.0, 4.0, 2.0, 4.0, 2.0, 3.0, 4.0, 5.0, 1.0, 3.0, 2.0, 5.0, 3.0, 5.0, 3.0, 3.0, 4.0, 4.0, 4.0, 5.0, 3.0, 3.0, 4.0, 4.0, 4.0, 1.0, 1.0, 4.0, 5.0, 3.0, 5.0, 4.0, 4.0, 4.0, 1.0, 2.0, 3.0, 4.0, 4.0, 5.0, 5.0, 4.0, 5.0, 2.0, 1.0, 1.0, 5.0, 1.0, 1.0, 5.0, 4.0, 2.0, 4.0, 3.0, 4.0, 3.35, 3.15, 3.15, 4.0, 4.0, 1.0, 4.8, 5.0, 4.0, 3.0, 3.0, 2.0, 1.0, 3.0, 3.0, 4.0, 5.0, 3.0, 4.0, 2.0, 2.0, 3.0, 5.0, 1.0, 4.0, 4.0, 5.0, 3.0, 1.0, 5.0, 5.0, 4.0, 2.0, 5.0, 2.0, 2.0, 2.0, 3.0, 2.0, 4.0, 1.0, 3.0, 1.0, 5.0, 1.0, 3.0, 5.0, 4.0, 3.0, 3.0, 3.0, 4.0, 1.0, 1.0, 3.0, 5.0, 3.0, 5.0, 2.0, 2.0, 5.0, 3.0, 2.0, 5.0, 2.0, 2.0, 4.0, 5.0, 1.0, 1.0, 2.0, 1.0, 1.0, 3.0, 2.0, 4.0, 1.0, 5.0, 2.0, 5.0, 2.0, 2.0, 4.0, 4.0]\n",
      "--------------------------------------------------------------------------------\n",
      "CLUSTER #8\n",
      "Key Features: ['great', 'hotel', 'room', 'staff', 'location', 'stay', 'clean', 'breakfast', 'nice', 'good', 'great location', 'place', 'friendly', 'service', 'time']\n",
      "Popular Ratings: [5.0, 5.0, 5.0, 5.0, 5.0, 5.0, 5.0, 4.6, 4.4, 5.0, 5.0, 4.6, 5.0, 4.8, 4.8, 4.8, 5.0, 5.0, 4.6, 4.6, 3.75, 3.35, 3.55, 3.75, 4.4, 5.0, 5.0, 5.0, 4.6, 5.0, 3.95, 5.0, 4.4, 5.0, 4.15, 5.0, 4.8, 4.4, 5.0, 5.0, 4.6, 4.0, 5.0, 5.0, 4.4, 4.6, 4.4, 3.75, 4.15, 3.75, 4.15, 3.35, 4.15, 2.9, 5.0, 5.0, 3.95, 5.0, 4.6, 4.15, 5.0, 4.6, 3.95, 5.0, 4.8, 5.0, 5.0, 4.6, 5.0, 5.0, 4.8, 4.6, 4.8, 5.0, 5.0, 5.0, 5.0, 4.6, 4.4, 3.15, 5.0, 3.95, 4.4, 5.0, 4.8, 5.0, 4.6, 2.9, 5.0, 5.0, 3.75, 4.6, 5.0, 5.0, 4.8, 5.0, 4.6, 4.4, 4.8, 4.6, 5.0, 4.6, 4.6, 4.6, 4.4, 5.0, 5.0, 4.6, 4.8, 4.8, 4.6, 4.6, 4.8, 5.0, 5.0, 5.0, 5.0, 4.0, 3.0, 5.0, 4.0, 5.0, 5.0, 3.0, 5.0, 5.0, 5.0, 4.0, 4.0, 4.0, 5.0, 4.0, 4.0, 5.0, 4.0, 5.0, 4.0, 5.0, 4.0, 5.0, 5.0, 5.0, 5.0, 5.0, 5.0, 4.0, 5.0, 5.0, 5.0, 4.0, 5.0, 5.0, 5.0, 5.0, 4.0, 5.0, 5.0, 4.0, 5.0, 4.4, 5.0, 5.0, 5.0, 5.0, 5.0, 4.0, 5.0, 5.0, 5.0, 5.0, 5.0, 5.0, 5.0, 5.0, 3.0, 5.0, 5.0, 3.0, 5.0, 5.0, 1.0, 4.0, 5.0, 4.0, 4.0, 5.0, 5.0, 5.0, 5.0, 5.0, 4.0, 5.0, 5.0, 5.0, 4.0, 4.0, 5.0, 5.0, 5.0, 5.0, 5.0, 2.0, 4.0, 5.0, 5.0, 5.0, 5.0, 5.0, 5.0, 5.0, 4.0, 5.0, 4.0, 5.0, 5.0, 4.0, 4.0, 4.0, 5.0, 4.0, 5.0, 5.0, 5.0, 4.0, 4.0, 5.0, 4.0, 3.0, 5.0, 5.0, 3.75, 4.0, 4.0, 5.0, 4.0, 5.0, 4.0, 5.0, 4.0, 5.0, 4.0, 5.0, 5.0, 5.0, 5.0, 4.0, 4.0, 5.0, 5.0, 4.0, 5.0, 5.0, 5.0, 5.0, 5.0, 5.0, 5.0, 5.0, 4.0, 5.0, 5.0, 4.0, 5.0, 4.0, 5.0, 5.0, 5.0, 5.0, 4.0, 5.0, 4.0, 4.0, 5.0, 5.0, 5.0, 4.0, 5.0, 4.0, 5.0, 5.0, 5.0, 4.0, 5.0, 5.0, 5.0, 5.0, 4.0, 4.0, 5.0, 4.0, 5.0, 4.0, 3.0, 3.0, 4.0, 4.0, 5.0, 4.0, 4.0, 5.0, 5.0, 5.0, 5.0, 4.0, 5.0, 4.0, 5.0, 4.0, 5.0, 4.0, 5.0, 5.0, 5.0, 5.0, 4.0, 5.0, 5.0, 5.0, 4.0, 5.0, 5.0, 5.0, 4.0, 5.0, 5.0, 5.0, 5.0, 5.0, 5.0, 5.0, 5.0, 5.0, 5.0, 5.0, 5.0, 5.0, 5.0, 5.0, 5.0, 5.0, 5.0, 5.0, 5.0, 5.0, 5.0, 5.0, 5.0, 4.0, 5.0, 5.0, 5.0, 5.0, 4.0, 5.0, 5.0, 5.0, 5.0, 5.0, 5.0, 5.0, 4.0, 4.0, 4.0, 5.0, 5.0, 5.0, 5.0, 4.0, 5.0, 5.0, 5.0, 4.0, 5.0, 5.0, 5.0, 4.0, 5.0, 4.0, 5.0, 3.35, 5.0, 3.0, 5.0, 4.0, 4.0, 5.0, 5.0, 5.0, 4.0, 4.0, 5.0, 5.0, 5.0, 5.0, 5.0, 5.0, 5.0, 5.0, 5.0, 5.0, 5.0, 5.0, 5.0, 5.0, 5.0, 4.6, 4.8, 4.0, 5.0, 4.0, 5.0, 5.0, 5.0, 4.8, 4.8, 4.6, 5.0, 4.15, 4.15, 5.0, 4.8, 4.6, 5.0, 4.5, 4.8, 5.0, 4.0, 4.0, 5.0, 4.0, 5.0, 5.0, 5.0, 3.0, 5.0, 4.0, 5.0, 4.0, 5.0, 5.0, 5.0, 4.0, 5.0, 4.0, 5.0, 5.0, 5.0, 4.0, 5.0, 5.0, 5.0, 5.0, 5.0, 5.0, 4.0, 5.0, 5.0, 4.0, 4.0, 5.0, 5.0, 5.0, 5.0, 3.75, 5.0, 4.15, 5.0, 5.0, 4.8, 5.0, 5.0, 5.0, 5.0, 5.0, 5.0, 5.0, 5.0, 5.0, 4.0, 5.0, 4.0, 5.0, 4.0, 3.0, 5.0, 5.0, 5.0, 3.0, 5.0, 5.0, 5.0, 5.0, 5.0, 5.0, 5.0, 5.0, 5.0, 5.0, 5.0, 5.0, 5.0, 5.0, 5.0, 4.0, 5.0, 5.0, 5.0, 4.0, 5.0, 5.0, 5.0, 5.0, 5.0, 5.0, 5.0, 4.0, 5.0, 4.0, 5.0, 5.0, 4.0, 4.0, 5.0, 4.0, 5.0, 4.0, 4.0, 5.0, 5.0, 5.0, 5.0, 5.0, 5.0, 4.0, 5.0, 5.0, 4.0, 3.0, 4.0, 5.0, 4.0, 5.0, 5.0, 5.0, 5.0, 5.0, 5.0, 5.0, 5.0, 5.0, 2.0, 5.0, 4.0, 5.0, 3.0, 5.0, 5.0, 5.0, 5.0, 5.0, 5.0, 5.0, 5.0, 5.0, 5.0, 5.0, 2.0, 4.0, 5.0, 5.0, 3.0, 5.0, 4.0, 3.0, 5.0, 5.0, 5.0, 4.0, 5.0, 4.0, 4.0, 5.0, 5.0, 5.0, 2.0, 5.0, 5.0, 4.0, 5.0, 5.0, 5.0, 1.0, 5.0, 4.0, 4.0, 5.0, 5.0, 5.0, 5.0, 5.0, 5.0, 5.0, 2.0, 5.0, 5.0, 4.0, 5.0, 5.0, 5.0, 4.0, 5.0, 5.0, 5.0, 4.0, 5.0, 5.0, 5.0, 3.0, 5.0, 5.0, 5.0, 5.0, 5.0, 5.0, 4.0, 5.0, 4.0, 4.0, 4.0, 4.0, 5.0, 5.0, 4.0, 5.0, 5.0, 5.0, 5.0, 5.0, 5.0, 5.0, 5.0, 5.0, 5.0, 5.0, 5.0, 5.0, 5.0, 4.0, 5.0, 5.0, 4.0, 5.0, 5.0, 5.0, 5.0, 4.0, 5.0, 4.0, 5.0, 5.0, 5.0, 5.0, 4.0, 5.0, 5.0, 5.0, 5.0, 5.0, 4.0, 3.0, 4.0, 5.0, 4.0, 5.0, 5.0, 5.0, 5.0, 5.0, 5.0, 5.0, 5.0, 5.0, 5.0, 5.0, 5.0, 5.0, 5.0, 5.0, 5.0, 5.0, 5.0, 5.0, 4.0, 5.0, 5.0, 5.0, 5.0, 5.0, 4.0, 5.0, 5.0, 5.0, 5.0, 5.0, 4.0, 5.0, 5.0, 5.0, 5.0, 5.0, 3.0, 3.0, 5.0, 5.0, 3.0, 5.0, 5.0, 4.0, 5.0, 4.0, 4.0, 4.0, 5.0, 5.0, 5.0, 4.0, 4.0, 5.0, 5.0, 4.0, 5.0, 5.0, 5.0, 5.0, 5.0, 4.0, 5.0, 3.0, 5.0, 5.0, 5.0, 5.0, 5.0, 5.0, 5.0, 4.0, 5.0, 5.0, 5.0, 4.0, 4.0, 4.0, 5.0, 5.0, 4.0, 5.0, 4.0, 5.0, 5.0, 4.0, 5.0, 5.0, 5.0, 4.0, 5.0, 5.0, 5.0, 4.0, 5.0, 5.0, 3.0, 5.0, 4.0, 4.0, 5.0, 2.0, 4.0, 5.0, 5.0, 5.0, 5.0, 5.0, 5.0, 5.0, 5.0, 4.0, 5.0, 5.0, 5.0, 4.0, 4.0, 4.0, 5.0, 4.0, 5.0, 4.0, 5.0, 5.0, 5.0, 4.0, 4.0, 5.0, 5.0, 5.0, 4.0, 5.0, 4.0, 4.0, 5.0, 5.0, 4.0, 5.0, 4.0, 5.0, 5.0, 5.0, 5.0, 5.0, 4.0, 4.0, 5.0, 5.0, 4.0, 4.0, 5.0, 4.0, 5.0, 5.0, 5.0, 5.0, 5.0, 5.0, 5.0, 5.0, 4.0, 5.0, 5.0, 4.0, 5.0, 5.0, 5.0, 5.0, 5.0, 5.0, 5.0, 5.0, 5.0, 4.0, 5.0, 4.0, 5.0, 4.0, 5.0, 5.0, 5.0, 5.0, 5.0, 5.0, 5.0, 5.0, 5.0, 4.0, 5.0, 4.0, 5.0, 5.0, 5.0, 5.0, 5.0, 5.0, 4.0, 4.0, 5.0, 5.0, 5.0, 5.0, 4.0, 5.0, 5.0, 5.0, 4.0, 5.0, 5.0, 5.0, 5.0, 3.0, 5.0, 3.0, 5.0, 5.0, 5.0, 5.0, 4.0, 4.0, 5.0, 3.0, 5.0, 5.0, 5.0, 5.0, 5.0, 5.0, 4.0, 4.0, 5.0, 4.0, 5.0, 4.0, 4.0, 5.0, 5.0, 4.0, 5.0, 3.0, 5.0, 5.0, 5.0, 4.0, 5.0, 5.0, 4.0, 4.0, 5.0, 5.0, 5.0, 4.0, 5.0, 4.0, 5.0, 5.0, 5.0, 4.0, 5.0, 5.0, 5.0, 4.0, 5.0, 4.0, 4.0, 5.0, 5.0, 5.0, 4.0, 4.0, 5.0, 5.0, 4.0, 5.0, 5.0, 5.0, 5.0, 5.0, 4.0, 5.0, 5.0, 5.0, 4.0, 5.0, 5.0, 5.0, 5.0, 5.0, 4.0, 5.0, 5.0, 5.0]\n",
      "--------------------------------------------------------------------------------\n",
      "CLUSTER #9\n",
      "Key Features: ['room', 'hotel', 'clean', 'nice', 'stay', 'bed', 'good', 'great', 'staff', 'breakfast', 'night', 'comfortable', 'stayed', 'desk', 'area']\n",
      "Popular Ratings: [5.0, 3.0, 4.0, 5.0, 5.0, 5.0, 4.0, 4.8, 4.15, 2.5, 4.0, 3.55, 3.55, 5.0, 1.65, 2.5, 2.1, 4.6, 3.75, 5.0, 5.0, 4.4, 2.75, 2.5, 2.5, 3.75, 4.4, 3.15, 3.95, 3.95, 3.75, 5.0, 4.4, 3.75, 4.15, 4.8, 5.0, 4.4, 3.55, 4.0, 4.8, 2.1, 1.65, 2.1, 4.8, 3.15, 2.5, 3.95, 4.8, 5.0, 4.8, 3.75, 4.8, 4.6, 3.15, 3.15, 2.1, 5.0, 5.0, 4.4, 2.9, 5.0, 5.0, 5.0, 5.0, 3.75, 3.75, 2.1, 4.8, 5.0, 5.0, 4.6, 3.75, 4.6, 5.0, 4.8, 5.0, 2.7, 3.95, 4.4, 5.0, 5.0, 4.6, 4.6, 4.15, 4.4, 4.6, 2.9, 4.8, 4.8, 4.6, 3.15, 5.0, 5.0, 4.0, 4.0, 4.0, 4.0, 5.0, 1.0, 5.0, 4.0, 5.0, 4.0, 5.0, 5.0, 5.0, 4.0, 3.0, 4.0, 2.0, 2.0, 1.0, 3.0, 3.0, 5.0, 4.0, 3.0, 5.0, 4.0, 2.0, 4.0, 5.0, 5.0, 1.0, 2.0, 4.0, 5.0, 4.0, 5.0, 5.0, 4.0, 3.0, 4.0, 4.0, 5.0, 5.0, 1.0, 5.0, 4.0, 4.0, 5.0, 4.0, 3.0, 2.0, 4.0, 1.0, 3.0, 5.0, 2.0, 5.0, 1.0, 5.0, 5.0, 3.0, 4.0, 4.0, 4.0, 5.0, 4.0, 4.0, 3.0, 3.0, 4.0, 3.0, 4.0, 2.0, 2.0, 5.0, 5.0, 5.0, 5.0, 4.0, 4.0, 1.0, 4.0, 4.0, 3.0, 5.0, 2.0, 2.3, 3.15, 4.4, 4.6, 5.0, 3.0, 4.0, 5.0, 1.0, 5.0, 5.0, 3.0, 5.0, 2.0, 4.0, 5.0, 5.0, 5.0, 5.0, 4.0, 4.0, 5.0, 3.0, 4.0, 5.0, 5.0, 5.0, 5.0, 5.0, 5.0, 5.0, 5.0, 5.0, 5.0, 4.0, 5.0, 5.0, 5.0, 5.0, 5.0, 5.0, 5.0, 5.0, 5.0, 4.0, 4.0, 3.0, 4.0, 5.0, 4.0, 4.0, 5.0, 4.0, 3.0, 2.0, 5.0, 3.0, 5.0, 5.0, 4.0, 1.0, 3.0, 3.0, 5.0, 5.0, 4.0, 4.0, 1.0, 3.0, 2.0, 5.0, 3.0, 1.0, 2.0, 4.0, 3.0, 3.0, 5.0, 4.0, 5.0, 5.0, 1.0, 4.0, 4.0, 3.0, 2.0, 5.0, 5.0, 5.0, 5.0, 3.0, 3.0, 1.0, 5.0, 5.0, 2.0, 1.0, 3.0, 2.0, 2.0, 1.0, 3.0, 4.0, 5.0, 1.0, 5.0, 5.0, 5.0, 4.0, 4.0, 4.0, 1.0, 1.0, 4.0, 3.0, 4.0, 4.0, 3.0, 4.0, 5.0, 2.0, 2.0, 4.0, 5.0, 5.0, 5.0, 5.0, 5.0, 3.0, 3.0, 3.0, 5.0, 5.0, 4.0, 5.0, 2.0, 1.0, 2.0, 5.0, 1.0, 2.0, 2.0, 3.0, 2.0, 2.0, 1.0, 4.0, 4.0, 4.0, 5.0, 4.0, 5.0, 4.0, 4.0, 5.0, 5.0, 4.0, 5.0, 4.0, 1.0, 2.0, 3.0, 4.0, 5.0, 3.0, 3.0, 5.0, 2.0, 5.0, 3.0, 2.0, 2.0, 2.0, 2.0, 4.0, 2.0, 1.0, 2.0, 3.0, 4.0, 4.0, 5.0, 4.0, 5.0, 2.0, 4.0, 3.0, 1.0, 1.0, 1.0, 3.0, 3.0, 3.0, 2.0, 2.0, 5.0, 5.0, 5.0, 5.0, 5.0, 4.0, 5.0, 5.0, 4.0, 5.0, 5.0, 3.0, 1.0, 1.0, 3.0, 3.0, 2.0, 2.0, 1.0, 4.0, 3.0, 1.0, 1.0, 3.0, 5.0, 3.0, 3.0, 5.0, 4.0, 4.6, 4.4, 2.9, 5.0, 3.0, 3.0, 3.0, 3.55, 3.15, 3.0, 3.15, 3.95, 4.4, 5.0, 3.75, 3.95, 5.0, 4.0, 5.0, 4.0, 1.0, 5.0, 2.0, 4.0, 1.0, 4.0, 5.0, 3.0, 5.0, 3.0, 4.0, 3.0, 3.0, 3.0, 3.0, 5.0, 4.0, 3.0, 2.0, 5.0, 4.0, 5.0, 2.0, 3.0, 5.0, 4.0, 3.0, 4.15, 3.75, 5.0, 4.6, 3.55, 4.15, 4.0, 1.0, 2.0, 4.0, 3.0, 2.0, 3.0, 1.0, 5.0, 1.0, 1.0, 4.0, 2.0, 3.0, 2.0, 3.0, 5.0, 4.0, 2.0, 5.0, 4.0, 4.0, 3.0, 3.0, 4.0, 5.0, 2.0, 3.0, 1.0, 1.0, 4.0, 5.0, 1.0, 2.0, 5.0, 4.0, 3.0, 3.0, 5.0, 3.0, 2.0, 5.0, 4.0, 5.0, 4.0, 4.0, 4.0, 5.0, 3.0, 4.0, 5.0, 4.0, 5.0, 1.0, 2.0, 1.0, 4.0, 3.0, 5.0, 4.0, 5.0, 4.0, 5.0, 5.0, 3.0, 4.0, 5.0, 4.0, 1.0, 3.0, 5.0, 5.0, 1.0, 4.0, 3.0, 4.0, 3.0, 5.0, 5.0, 5.0, 4.0, 4.0, 3.0, 4.0, 3.0, 4.0, 4.0, 2.0, 3.0, 3.0, 4.0, 4.0, 2.0, 4.0, 3.0, 3.0, 3.0, 1.0, 5.0, 5.0, 5.0, 3.0, 3.0, 4.0, 5.0, 3.0, 4.0, 1.0, 2.0, 4.0, 3.0, 2.0, 2.0, 2.0, 3.0, 5.0, 1.0, 1.0, 2.0, 3.0, 4.0, 3.0, 5.0, 2.0, 3.0, 5.0, 2.0, 3.0, 2.0, 3.0, 4.0, 4.0, 2.0, 5.0, 5.0, 2.0, 2.0, 4.0, 4.0, 2.0, 4.0, 2.0, 1.0, 3.0, 3.0, 4.0, 3.0, 3.0, 1.0, 2.0, 3.0, 5.0, 3.0, 4.0, 4.0, 1.0, 4.0, 5.0, 1.0, 2.0, 5.0, 3.0, 3.0, 1.0, 3.0, 2.0, 5.0, 3.0, 4.0, 4.0, 1.0, 3.0, 4.0, 3.0, 5.0, 3.0, 1.0, 4.0, 3.0, 5.0, 5.0, 2.0, 4.0, 4.0, 4.0, 2.0, 1.0, 4.0, 3.0, 5.0, 5.0, 4.0, 4.0, 5.0, 1.0, 3.0, 4.0, 5.0, 5.0, 2.0, 4.0, 5.0, 4.0, 2.0, 5.0, 2.0, 4.0, 5.0, 4.0, 5.0, 5.0, 4.0, 4.0, 4.0, 5.0, 4.0, 1.0, 5.0, 4.0, 3.0, 3.0, 4.0, 4.0, 5.0, 5.0, 5.0, 5.0, 3.0, 5.0, 4.0, 4.0, 3.0, 4.0, 5.0, 2.0, 4.0, 5.0, 2.0, 5.0, 5.0, 3.0, 5.0, 3.0, 4.0, 5.0, 4.0, 2.0, 1.0, 4.0, 4.0, 5.0, 5.0, 5.0, 4.0, 5.0, 3.0, 1.0, 1.0, 5.0, 1.0, 4.0, 5.0, 4.0, 2.0, 4.0, 3.0, 3.0, 3.0, 1.0, 4.0, 3.0, 5.0, 1.0, 4.0, 2.0, 3.0, 5.0, 3.0, 3.0, 3.0, 3.0, 2.0, 3.0, 4.0, 3.0, 5.0, 3.0, 5.0, 3.0, 5.0, 5.0, 1.0, 5.0, 5.0, 5.0, 5.0, 2.0, 4.0, 3.0, 5.0, 3.0, 1.0, 4.0, 5.0, 5.0, 5.0, 4.0, 2.0, 5.0, 1.0, 5.0, 5.0, 5.0, 3.0, 4.0, 4.0, 5.0, 3.0, 4.0, 3.0, 4.0, 5.0, 3.0, 4.0, 4.0, 3.0, 3.0, 4.0, 2.0, 4.0, 5.0, 4.0, 3.0, 4.0, 3.0, 4.0, 3.0, 1.0, 5.0, 4.0, 3.0, 4.0, 1.0, 3.0, 4.0, 1.0, 3.0, 4.0, 5.0, 5.0, 4.0, 5.0, 5.0, 5.0, 5.0, 4.0, 2.0, 3.0, 3.0, 3.0, 4.0, 5.0, 4.0, 5.0, 5.0, 2.0, 4.0, 5.0, 3.0, 1.0, 3.0, 4.0, 5.0, 3.0, 1.0, 4.0, 4.0, 2.0, 3.0, 5.0, 2.0, 2.0, 3.0, 5.0, 2.0, 2.0, 3.0, 5.0, 5.0, 4.0, 5.0, 3.0, 2.0, 4.0, 3.0, 2.0, 4.0, 3.0, 3.0, 4.0, 2.0, 4.0, 4.0, 3.0, 3.0, 1.0, 5.0, 4.0, 2.0, 5.0, 4.0, 5.0, 3.0, 5.0, 3.0, 1.0, 3.0, 3.0, 1.0, 5.0, 4.0, 5.0, 4.0, 2.0, 4.0, 4.0, 3.0, 4.0, 3.0, 1.0, 1.0, 5.0, 3.0, 4.0, 3.0, 2.0, 3.0, 4.0, 1.0, 1.0, 4.0, 1.0, 5.0, 4.0, 2.0, 5.0, 3.0, 4.0, 4.0, 2.0, 2.0, 4.0, 4.0, 1.0, 2.0, 1.0, 3.0, 1.0, 1.0, 3.0, 2.0, 3.0, 5.0, 3.0, 3.0, 5.0, 3.0, 3.0, 4.0, 2.0, 5.0, 4.0, 3.0, 2.0, 5.0, 5.0, 3.0, 3.0, 1.0, 5.0, 5.0, 5.0, 1.0, 3.0, 5.0, 2.0, 4.0, 4.0, 3.0, 3.0, 5.0, 1.0, 4.0, 3.0, 5.0, 2.0, 3.0, 4.0, 2.0, 1.0, 4.0, 4.0, 5.0, 4.0, 3.0, 5.0, 5.0, 1.0, 4.0, 3.0, 1.0, 4.0, 2.0, 4.0, 2.0, 5.0, 3.0, 4.0, 3.0, 4.0, 4.0, 2.0, 3.0, 5.0, 3.0, 5.0, 4.0, 5.0, 1.0, 5.0, 4.0, 5.0, 4.0, 5.0, 1.0, 4.0, 2.0, 2.0, 4.0, 2.0, 5.0, 2.0, 5.0, 5.0, 5.0, 5.0, 5.0, 1.0, 5.0, 2.0, 2.0, 4.0, 1.0, 3.0, 4.0, 3.0, 1.0, 3.0, 1.0, 1.0, 5.0, 4.0, 2.0, 5.0, 2.0, 1.0, 2.0, 4.0, 5.0, 4.0, 5.0, 3.0, 5.0, 3.0, 4.0, 4.0, 4.0, 5.0, 2.0, 1.0, 3.0, 2.0, 5.0, 1.0, 4.0, 5.0, 1.0, 4.0, 2.0, 4.0, 5.0, 5.0, 4.0, 1.0, 1.0, 1.0, 1.0, 2.0, 5.0, 5.0, 2.0, 1.0, 3.0, 4.0, 2.0, 4.0, 4.0, 5.0, 4.0, 5.0, 5.0, 4.0, 5.0, 3.0, 5.0, 2.0, 1.0, 3.0, 1.0, 5.0, 5.0, 4.0, 3.0, 4.0, 2.0, 2.0, 1.0, 4.0, 5.0, 3.0, 4.0, 4.0, 3.0, 5.0, 1.0, 2.0, 1.0, 2.0, 2.0, 2.0, 1.0, 4.0, 3.0, 4.0, 4.0, 2.0, 2.0, 1.0, 1.0, 5.0, 5.0, 5.0, 5.0, 5.0, 2.0, 3.0, 1.0, 1.0, 5.0, 5.0, 4.0, 4.0, 4.0, 4.0, 2.0, 1.0, 2.0, 4.0, 5.0, 5.0, 2.0, 4.0, 2.0, 1.0, 3.0, 3.0, 4.0, 3.0, 5.0, 5.0, 3.0, 1.0, 2.0, 5.0, 5.0, 3.0, 3.0, 1.0, 4.0, 3.0, 4.0, 1.0, 5.0, 5.0, 2.0, 2.0, 2.0, 4.0, 4.0, 4.0, 4.0, 3.0, 4.0, 3.0, 5.0, 3.0, 4.0, 5.0, 5.0, 2.0, 5.0, 1.0, 1.0, 1.0, 4.0]\n",
      "--------------------------------------------------------------------------------\n"
     ]
    }
   ],
   "source": [
    "# get key features for each cluster\n",
    "# get reviews belonging to each cluster\n",
    "for cluster_num in range(num_clusters):\n",
    "    key_features = [feature_names[index] for index in ordered_centroids[cluster_num, :topn_features]]\n",
    "    reviews = reviews_df[reviews_df['kmeans_cluster'] == cluster_num]['reviews_rating'].values.tolist()\n",
    "    print('CLUSTER #'+str(cluster_num+1))\n",
    "    print('Key Features:', key_features)\n",
    "    print('Popular Ratings:', reviews)\n",
    "    print('-'*80)"
   ]
  },
  {
   "cell_type": "code",
   "execution_count": 124,
   "metadata": {},
   "outputs": [
    {
     "name": "stdout",
     "output_type": "stream",
     "text": [
      "working\n",
      "--- 678.79 seconds ---\n"
     ]
    }
   ],
   "source": [
    "start_time = time.time()\n",
    "print('working')\n",
    "\n",
    "cosine_sim_features = cosine_similarity(cv_matrix)\n",
    "\n",
    "km = KMeans(n_clusters=num_clusters, max_iter=10000, n_init=50, random_state=42).fit(cosine_sim_features)\n",
    "Counter(km.labels_)\n",
    "   \n",
    "print(\"--- {} seconds ---\".format(round(time.time() - start_time, 2)))"
   ]
  },
  {
   "cell_type": "code",
   "execution_count": 125,
   "metadata": {},
   "outputs": [],
   "source": [
    "reviews_df['kmeans_cluster'] = km.labels_\n",
    "\n",
    "reviews_clusters = (reviews_df[['reviews_clean', 'reviews_clean_title', 'kmeans_cluster', 'reviews_rating']]\n",
    "                  .sort_values(by=['kmeans_cluster', 'reviews_rating'],\n",
    "                               ascending=False)\n",
    "                  .groupby('kmeans_cluster').head(20))\n",
    "reviews_clusters = reviews_clusters.copy(deep=True)"
   ]
  },
  {
   "cell_type": "code",
   "execution_count": 132,
   "metadata": {},
   "outputs": [
    {
     "name": "stdout",
     "output_type": "stream",
     "text": [
      "CLUSTER #1\n",
      "Popular Ratings: ['ALWAYS GREAT STAY...', 'great!!!!!!', 'Extremely comfortable', 'A fun place to stay with great staff and lots going on in...', 'Fun place and great staff', 'Dont look past The Boxer for Boston accommodation.', 'Great location for a reasonable price in Boston.', 'Dont look past The Boxer for Boston accommodation.', 'What a great experience!', 'Great find in Boston', 'Modern style, great location, super helpful staff,...', 'Wonderful great city and the hotel was in the perfect location', 'great location breakfast', 'Everything about this place was great!', \"It's economical, boutique style (my fave), great quality...\", 'a Boston great!', 'Loved it....Location and Friendly Staff!!!', 'Great value.', 'Another lovely night', 'Great Customer Service']\n",
      "--------------------------------------------------------------------------------\n",
      "CLUSTER #2\n",
      "Popular Ratings: ['Worth the money', 'Amazing employees and facilities', 'Excellent!', 'Great Room', 'Happy in Texas.', 'Friendly, helpful staff and comfortable rooms!', 'Everything very nice room food service', 'I loved the room I was in.', 'Perfect location', 'Well kept secret in Waikiki', 'Good Time in Waikiki', 'It was wonderful. Staff was beyond nice', 'We loved our stay at the W Boston!', 'Perfect Hotel in a Perfect Location', 'Classic Hotel', 'An unforgetable experience to spend Thanksgiving 2016 in an one of a kind luxury world class place!', 'Excellent and romantic!', 'Rooms an bed.', 'The room and bathroom were spacious and very nice, very...', 'Loved our room, bed, breakfast buffet, fridge in room, free...']\n",
      "--------------------------------------------------------------------------------\n",
      "CLUSTER #3\n",
      "Popular Ratings: ['Amazing Property and Experience', 'Nice location', 'Will definately stay there again', 'Great conference stay', 'Conference stay', 'You MUST stay here', 'Best gambling in Vegas and best comps!', 'Very comfortable and fun stay', 'Excellent stay. Hope to stay there again.', \"can't wait to stay here again!\", 'Will definitely be back!', 'Loved our stay ...', 'Central and fun place to stay in Boston.', 'Best place to stay in Chicago', 'Would stay here again- staff was friendly and helpful.', 'Best Stay In Philly', 'Great stay centrally located!', 'No whining in the wine country', 'Great Stay!!!', 'Great nights sleep']\n",
      "--------------------------------------------------------------------------------\n",
      "CLUSTER #4\n",
      "Popular Ratings: ['I loved our stay here', 'Hampton Inn - Vancouver WA', 'Extended stay', 'Affordable premium lodging', 'Friendly staff, large clean room.', 'I thought flying Virgin was great.... this exceeded my expectations', 'We enjoyed the convenience of staying here while we attended a concert at the Boston Garden.', 'Great location and very pleasant', 'Very friendly staff', 'First time in Miami and had a great stay at The Hotel, South Beach. Loved it!', 'Excellent customer service!', 'Location, rooms, front Terrace and great staff plus the...', 'Staff and service was very friendly and helpfull.', 'Beautiful hotel, loved the artwork, staff couldnt be any nicer, thanks', 'Great boutique property', 'A nice hotel and I will stay again if I return to Vegas', 'Great Hotel right off the strip', 'Nice room, friendly staff', 'Great stay, very comfortable and clean', 'Great location, quiet rooms, wonderful staff.']\n",
      "--------------------------------------------------------------------------------\n",
      "CLUSTER #5\n",
      "Popular Ratings: ['Best romantic vacation ever!!!!', 'Sweet sweet serenity', 'Excellent!', 'Thank you, Garth Brooks!', 'Gracious and helpful staff', 'Hampton inn', 'Overall it was good but AC sucks!!', 'Amazing!', 'Hosted Client Event', 'Truly a grand experience', 'Top choice for San Diego', 'Helpful Staff!', 'The location', 'Close to TD Garden', 'I absolutely loved it and will definitely be back in the near future!', \"We'll be back.\", 'Very satisfied', 'everything was fine except the band noise until 2 in the morning', 'Ease of conveniece to everything I needed', 'Excellent']\n",
      "--------------------------------------------------------------------------------\n",
      "CLUSTER #6\n",
      "Popular Ratings: ['Wonderful stay', 'Excellent Stay', \"Hotel's 1920s charm and elegance remain fresh\", 'Reasonable price for exceptional hotel', 'Wonderful quiet resort', 'Its hard to improve on perfection.', 'Top Notch Hotel in SoCal', 'San Diego Fairmont Excellence', 'Best Hotel I have EVER stayed at', 'Awesome hotel.', 'PERFECTION', 'The whole 5 day experience at the hotel was superb- the...', 'awesome hotel', 'As Local As You Can Get', 'Very nice hotel in Boston center', \"Boston Marathon runner's ideal location!\", 'World Class Customer Service and Fabulous', 'Nicely decorated boutique hotel just a couple of blocks...', 'i love everything about the hotel really.', 'Amazing hotel']\n",
      "--------------------------------------------------------------------------------\n",
      "CLUSTER #7\n",
      "Popular Ratings: ['Short stay for business.', 'More than Expected', 'Perfect start to the honeymoon', 'Best hotel in the country!', 'Amazing Experience', 'Excellent We Had a BLAST in the WATER Park Hotel', 'Exceptional hotel', 'Perfect', 'More please', \"It's my favorite place go I've booked for November for my birthday this year.\", 'The Fun Starts At Downtown Las Vegas.', 'Perfect place for a Nostalgic Return to Beloved Boston', 'Loved the sound system in the room and the fact that they...', 'Great New York Hotel', 'Southern Hospitality at its core', 'Loved it', 'Only a block off the strip.', 'Comfortable beds: adequate bathing supplies', 'Chic design transports you to tranqulity', 'Awesome Birthday Night!']\n",
      "--------------------------------------------------------------------------------\n",
      "CLUSTER #8\n",
      "Popular Ratings: ['Fun, Funky Energy to a Shiny New Hotel', 'Everything', \"IN THE HEART OF BOSTON...'cause they got heart!\", \"A marvelous location, very friendly crew, it's clear...\", 'Excellent', 'Lots of fun', 'Excellence - and without a resort fee!', 'yes', 'Location', 'But all nd all the stay was amazing', 'There to visist family so being close to the T was important. Location , location, location.', 'Location!', 'would stay there again...and not boo thru your site', 'Location is fabulous.', 'Excellent', 'very good place', 'Would Stay Again', 'Great location', 'Great! We plan to come back in February.', 'Unreal']\n",
      "--------------------------------------------------------------------------------\n",
      "CLUSTER #9\n",
      "Popular Ratings: ['Great Hotel Experiece!', 'Perfection', 'Good hotel. Worth checking out.', 'Convenient, cute and moderately comfrotable', 'Great Staff!', 'Great staff, great breakfast, great experience', 'Great hotel', 'Splendid', 'Stunning Hotel for 30th Birthday', 'Beautiful hotel and great value', 'The coolest hotel! Everything is excellent', 'Made the trip even better bookending the day at the hotel.', 'Hotel with Personality!', 'Great hotel!', 'Loved It!!!', 'very nice restored hotel.', 'Perfect location and best staff from top to bottom!', 'I want to go back!', 'We liked everything about this hotel from the moment we...', 'A comfortable hotel in a great location']\n",
      "--------------------------------------------------------------------------------\n"
     ]
    }
   ],
   "source": [
    "for cluster_num in range(num_clusters):\n",
    "    reviews = review_clusters[review_clusters['kmeans_cluster'] == cluster_num]['reviews_title'].values.tolist()\n",
    "    print('CLUSTER #'+str(cluster_num+1))\n",
    "    print('Popular Ratings:', reviews)\n",
    "    print('-'*80)"
   ]
  },
  {
   "cell_type": "markdown",
   "metadata": {},
   "source": [
    "### Affinity Propagation <a name=\"aff\"></a>"
   ]
  },
  {
   "cell_type": "code",
   "execution_count": 108,
   "metadata": {},
   "outputs": [
    {
     "name": "stdout",
     "output_type": "stream",
     "text": [
      "working\n",
      "--- 232.22 seconds ---\n"
     ]
    }
   ],
   "source": [
    "start_time = time.time()\n",
    "print('working')\n",
    "\n",
    "ap = AffinityPropagation(max_iter=1000)\n",
    "ap.fit(cosine_sim_features)\n",
    "labels = af.labels_\n",
    "res = Counter(ap.labels_)\n",
    "res.most_common(10)\n",
    "\n",
    "print(\"--- {} seconds ---\".format(round(time.time() - start_time, 2)))"
   ]
  },
  {
   "cell_type": "code",
   "execution_count": 110,
   "metadata": {},
   "outputs": [
    {
     "name": "stdout",
     "output_type": "stream",
     "text": [
      "CLUSTER #213\n",
      "Popular Movies: ['Didnt smell like smoke, and no gambling', 'Fancy', 'It was very close to the airport', 'second visit amazing', 'All We Lacked Was Sunshine', 'Front desk', 'Business Trip', 'Scalloping with Capt. Russ is our families favorite activity!', 'Quiet getaway', 'Best vacation ever', 'Outstanding Attention to Detail!', 'In the Heart of Silver Spring', 'Simply Paradise', 'We would return to stay at Honua Kai', 'Everything was fine!', 'Me encantaron mis vacaciones pasarlas en ese lugar', 'Cheer Competition', 'Just Lovely', 'Fun filled 36 hours', 'Nadia is the best!']\n",
      "--------------------------------------------------------------------------------\n",
      "CLUSTER #287\n",
      "Popular Movies: ['Amazing Experience', 'Awesome Birthday Night!', 'Best in Winfield!', 'Family, convention, wedding, product launch', 'The best modern resort In Vegas!', 'Lovely Resort', '52 SECOND ANNIVESARY', 'Exceeded Expectations', 'When I booked my room it said that that parking was included...', 'Standard double queen/ North Lake Mall', 'Update', 'close to airport', 'A little help here??', 'Best dog friendly in the area--', 'Except for highway noise, our room was fine. The followup...', 'Cleaner and stopper', 'Restful', 'I expected better', 'Overpriced', 'Pay for the main Hyatt resort']\n",
      "--------------------------------------------------------------------------------\n",
      "CLUSTER #142\n",
      "Popular Movies: ['Best hotel in the country!', 'Truly a grand experience', 'This was surprisingly luxurious for the price.', 'Wonderful', 'Amazing Front Desk Agent', 'Amazing experience', 'ARIA IS 1', 'Airport Proximity', 'A Hidden Gem', 'Hampton Came Through in a Pinch', 'Best in Town', 'Convenience to Sentara Leigh Hospital', 'Beauty that Blends', 'Stranded!', 'Fresh and fun with teens', 'First Class all around!', 'Luxurious Elegance', 'Temporarily or Permanently Handicapped Check this Out!', 'Best Western Hope', 'Best customer service!']\n",
      "--------------------------------------------------------------------------------\n",
      "CLUSTER #223\n",
      "Popular Movies: ['Location is everything', 'lo recomiendo', 'Weekend getaway', 'Daughters birthday', 'Lovely little motel in Cape May.', 'Best 15 anniversary ever', 'En transit', 'Encore une excellente experience au Homewood', 'A gem in the heart of the Old Port', 'Virginia Beach', 'Wonderful Birthday Weekend!!', 'Recomendado 100', 'Ottima alternativa per visitare Washington', 'excelente!', 'No problems vacation', 'Excellent and no compliant', 'Southern Hospitality at its very best!!!', 'A Monthly Getaway', 'quick stop', 'In Memory of ......']\n",
      "--------------------------------------------------------------------------------\n",
      "CLUSTER #158\n",
      "Popular Movies: ['Close to TD Garden', \"We'll be back.\", 'Ease of conveniece to everything I needed', 'I was impressed with the complementary robes and slippers...', 'I really liked the water in the lobby.', 'close to action but off the strip, so quiet', 'Everything was amazing I will for sure be back!', 'The bar on the rooftop', 'Customer service.', 'No fuss, no hassle, delivers exactly what it says.', 'Central to lots of sites and walking around is convenient', 'Nicer than I am used to for the price', 'Summer Fun', 'Historic', 'Sooooo Good!!', 'Excellent !!!!', 'Bartender was awesome', 'Parking was very convenient, partly because we drove a...', 'Surprisingly quiet!', 'It was big enough for our family.']\n",
      "--------------------------------------------------------------------------------\n",
      "CLUSTER #363\n",
      "Popular Movies: ['Brief stop-over', 'Excellent hotel...shame about the resort tax', 'Wonderful Family Wedding', 'Modern, spacious, first class establishment', 'Exceeded Expectations', 'A Home Away from Home', 'Positive Business Related Experience', 'A Fabulous Night', 'Comfort Assured', 'Old school grace and elegance with current renovations--best of both', 'Had a blast with the family!', 'Outstanding!', 'Comfortable and quite', \"Best Hampton I've ever!\", 'A hidden gem', 'Outstanding Cape Cod Inn', 'Relaxing and Fun Time!', 'Housekeeping', 'Spectacular room with one drawback', 'School trip at the Galt House']\n",
      "--------------------------------------------------------------------------------\n",
      "CLUSTER #77\n",
      "Popular Movies: ['Understated elegance', 'Amazing!', 'Perfection ... and a Great Deal Too', 'Would go there again........', 'Much better than expected!!', 'Wonderful Retreat', 'Best sleep ever!', 'Love it', 'Historic and well situated', 'Newer Hotel, Great Customer Service, Quiet', 'Close to Pentagon and Metro but pricey', 'Hotel', 'Spacious Rooms! Complimentary Shuttle Cable needs updating.', 'Lovely hotel in the heart of old town Charleston', 'Not to bad , but kinda Pricey', 'It was generally satisfactory but not sure it was value for the money', 'smile is perfect,but', 'Booking Problems', 'Good hotel, some issues.', 'Shared bathroom']\n",
      "--------------------------------------------------------------------------------\n",
      "CLUSTER #145\n",
      "Popular Movies: ['Comfortable and affordable', 'Beautiful', 'Impressed', 'Relaxing Interlude', 'The Comfort Suites in Chincoteague, VA', 'Surprisingly impressed!', 'Elegant and roomy', 'Great Experience', 'Highly Recommend', 'The room was very comfortable', 'Just one year later - just wanted to add', 'Centrally located and classic', 'Decent budget hotel', 'Beautiful historic property', \"I'll be back\", 'Sleepness Night', 'convenient', 'Worst Hotel I have ever experienced', 'Disappointed', 'Be sure you get what you paid for!']\n",
      "--------------------------------------------------------------------------------\n"
     ]
    }
   ],
   "source": [
    "reviews_df['affprop_cluster'] = ap.labels_\n",
    "filtered_clusters = [item[0] for item in res.most_common(8)]\n",
    "filtered_df = reviews_df[reviews_df['affprop_cluster'].isin(filtered_clusters)]\n",
    "reviews_clusters = (filtered_df[['reviews_title', 'reviews_text', 'affprop_cluster', 'reviews_rating']]\n",
    "                  .sort_values(by=['affprop_cluster', 'reviews_rating'],\n",
    "                               ascending=False)\n",
    "                  .groupby('affprop_cluster').head(20))\n",
    "reviews_clusters = reviews_clusters.copy(deep=True)\n",
    "\n",
    "# get key features for each cluster\n",
    "# get movies belonging to each cluster\n",
    "for cluster_num in range(len(filtered_clusters)):\n",
    "    reviews = reviews_clusters[reviews_clusters['affprop_cluster'] \\\n",
    "                               == filtered_clusters[cluster_num]]['reviews_title'].values.tolist()\n",
    "    print('CLUSTER #'+str(filtered_clusters[cluster_num]))\n",
    "    print('Popular Movies:', reviews)\n",
    "    print('-'*80)"
   ]
  },
  {
   "cell_type": "markdown",
   "metadata": {},
   "source": [
    "### DB Scan <a name=\"db\"></a>"
   ]
  },
  {
   "cell_type": "code",
   "execution_count": 182,
   "metadata": {},
   "outputs": [
    {
     "name": "stdout",
     "output_type": "stream",
     "text": [
      "working...\n",
      "[0 0 0 ... 0 0 0]\n",
      "Estimated number of clusters: 1\n",
      "Estimated number of noise points: 913\n",
      "--- 3.92 seconds ---\n",
      "Silhouette Coefficient: 0.31676051267216976\n"
     ]
    }
   ],
   "source": [
    "start_time = time.time()\n",
    "\n",
    "print('working...')\n",
    "\n",
    "db = DBSCAN(eps= 8, min_samples= 3).fit(cv_matrix)\n",
    "\n",
    "core_samples_mask = np.zeros_like(db.labels_, dtype=bool)\n",
    "core_samples_mask[db.core_sample_indices_] = True\n",
    "labels = db.labels_\n",
    "\n",
    "\n",
    "# Number of clusters in labels, ignoring noise if present.\n",
    "n_clusters_ = len(set(labels)) - (1 if -1 in labels else 0)\n",
    "n_noise_ = list(labels).count(-1)\n",
    "\n",
    "print(labels)\n",
    "\n",
    "print('Estimated number of clusters: %d' % n_clusters_)\n",
    "print('Estimated number of noise points: %d' % n_noise_)\n",
    "\n",
    "\n",
    "print(\"--- %s seconds ---\" % round(time.time() - start_time, 2))\n",
    "\n",
    "print(\"Silhouette Coefficient: {}\".format(metrics.silhouette_score(cv_matrix, labels)))"
   ]
  },
  {
   "cell_type": "markdown",
   "metadata": {},
   "source": [
    "## Clustering attempts using HashingVectorizer <a name=\"hash\"></a>"
   ]
  },
  {
   "cell_type": "code",
   "execution_count": 228,
   "metadata": {},
   "outputs": [
    {
     "name": "stdout",
     "output_type": "stream",
     "text": [
      "The number of observations in training set is 6698\n",
      "The number of observations in test set is 3300\n",
      "Shape of Term Frequency Matrix: (9998, 5488)\n",
      "Shape of TFIDF Matrix: (9998, 5488)\n",
      "Shape of y: (6698,)\n"
     ]
    }
   ],
   "source": [
    "le = preprocessing.LabelEncoder()\n",
    "hasher = HashingVectorizer(stop_words='english', alternate_sign=False, norm='l2', binary=False)\n",
    "\n",
    "X = reviews_df['clean2']\n",
    "y = le.fit_transform(reviews_df['rating_bin']) #label encoding on the 9 binned categories\n",
    "\n",
    "X = hasher.fit_transform(X)\n",
    "#X_counts = count_vect.fit_transform(X)\n",
    "X = transformer.fit_transform(X_counts)\n",
    "\n",
    "X_train, X_test, y_train, y_test = train_test_split(X, y, test_size=0.33, random_state=42)\n",
    "\n",
    "\n",
    "\n",
    "#X_train, X_test, y_train, y_test = train_test_split(X, y, test_size = 0.33, random_state = 42)\n",
    "\n",
    "print(\"The number of observations in training set is {}\".format(X_train.shape[0]))\n",
    "print(\"The number of observations in test set is {}\".format(X_test.shape[0]))\n",
    "print(f'Shape of Term Frequency Matrix: {X_counts.shape}')\n",
    "print(f'Shape of TFIDF Matrix: {X.shape}')\n",
    "print(f'Shape of y: {y_train.shape}')"
   ]
  },
  {
   "cell_type": "code",
   "execution_count": 229,
   "metadata": {},
   "outputs": [
    {
     "name": "stdout",
     "output_type": "stream",
     "text": [
      "working...\n",
      "Performing dimensionality reduction using LSA\n",
      "--- 29.62 seconds ---\n",
      "Explained variance of the SVD step: 88%\n"
     ]
    }
   ],
   "source": [
    "start_time = time.time()\n",
    "\n",
    "print('working...')\n",
    "print(\"Performing dimensionality reduction using LSA\")\n",
    "\n",
    "svd = TruncatedSVD(2500)\n",
    "normalizer = Normalizer(copy=False)\n",
    "lsa = make_pipeline(svd, normalizer)\n",
    "\n",
    "X = lsa.fit_transform(X)\n",
    "\n",
    "explained_variance = svd.explained_variance_ratio_.sum()\n",
    "\n",
    "print(\"--- %s seconds ---\" % round(time.time() - start_time, 2))\n",
    "\n",
    "\n",
    "print(\"Explained variance of the SVD step: {}%\".format(int(explained_variance * 100)))"
   ]
  },
  {
   "cell_type": "markdown",
   "metadata": {},
   "source": [
    "### MiniBatchMeans <a name=\"mini\"></a>"
   ]
  },
  {
   "cell_type": "code",
   "execution_count": 231,
   "metadata": {
    "scrolled": true
   },
   "outputs": [
    {
     "name": "stdout",
     "output_type": "stream",
     "text": [
      "working...\n",
      "Clustering sparse data with MiniBatchKMeans(batch_size=1000, compute_labels=True, init='k-means++',\n",
      "                init_size=1000, max_iter=100, max_no_improvement=10,\n",
      "                n_clusters=9, n_init=1, random_state=None,\n",
      "                reassignment_ratio=0.01, tol=0.0, verbose=True)\n",
      "Init 1/1 with method: k-means++\n",
      "Inertia for init 1/1: 954.341909\n",
      "Minibatch iteration 1/1000: mean batch inertia: 0.966285, ewa inertia: 0.966285 \n",
      "Minibatch iteration 2/1000: mean batch inertia: 0.961412, ewa inertia: 0.965310 \n",
      "Minibatch iteration 3/1000: mean batch inertia: 0.959239, ewa inertia: 0.964096 \n",
      "Minibatch iteration 4/1000: mean batch inertia: 0.959256, ewa inertia: 0.963128 \n",
      "Minibatch iteration 5/1000: mean batch inertia: 0.958842, ewa inertia: 0.962270 \n",
      "Minibatch iteration 6/1000: mean batch inertia: 0.957305, ewa inertia: 0.961277 \n",
      "Minibatch iteration 7/1000: mean batch inertia: 0.956787, ewa inertia: 0.960379 \n",
      "Minibatch iteration 8/1000: mean batch inertia: 0.956047, ewa inertia: 0.959513 \n",
      "Minibatch iteration 9/1000: mean batch inertia: 0.955454, ewa inertia: 0.958701 \n",
      "Minibatch iteration 10/1000: mean batch inertia: 0.955025, ewa inertia: 0.957966 \n",
      "Minibatch iteration 11/1000: mean batch inertia: 0.954924, ewa inertia: 0.957357 \n",
      "Minibatch iteration 12/1000: mean batch inertia: 0.956198, ewa inertia: 0.957126 \n",
      "Minibatch iteration 13/1000: mean batch inertia: 0.954556, ewa inertia: 0.956612 \n",
      "Minibatch iteration 14/1000: mean batch inertia: 0.954039, ewa inertia: 0.956097 \n",
      "Minibatch iteration 15/1000: mean batch inertia: 0.955997, ewa inertia: 0.956077 \n",
      "Minibatch iteration 16/1000: mean batch inertia: 0.955502, ewa inertia: 0.955962 \n",
      "Minibatch iteration 17/1000: mean batch inertia: 0.954713, ewa inertia: 0.955712 \n",
      "Minibatch iteration 18/1000: mean batch inertia: 0.954395, ewa inertia: 0.955449 \n",
      "Minibatch iteration 19/1000: mean batch inertia: 0.954375, ewa inertia: 0.955234 \n",
      "Minibatch iteration 20/1000: mean batch inertia: 0.953999, ewa inertia: 0.954987 \n",
      "Minibatch iteration 21/1000: mean batch inertia: 0.956180, ewa inertia: 0.955226 \n",
      "Minibatch iteration 22/1000: mean batch inertia: 0.955126, ewa inertia: 0.955206 \n",
      "Minibatch iteration 23/1000: mean batch inertia: 0.953197, ewa inertia: 0.954804 \n",
      "Minibatch iteration 24/1000: mean batch inertia: 0.952326, ewa inertia: 0.954308 \n",
      "Minibatch iteration 25/1000: mean batch inertia: 0.955163, ewa inertia: 0.954479 \n",
      "Minibatch iteration 26/1000: mean batch inertia: 0.952671, ewa inertia: 0.954118 \n",
      "Minibatch iteration 27/1000: mean batch inertia: 0.953789, ewa inertia: 0.954052 \n",
      "Minibatch iteration 28/1000: mean batch inertia: 0.953927, ewa inertia: 0.954027 \n",
      "Minibatch iteration 29/1000: mean batch inertia: 0.954645, ewa inertia: 0.954151 \n",
      "Minibatch iteration 30/1000: mean batch inertia: 0.953412, ewa inertia: 0.954003 \n",
      "Minibatch iteration 31/1000: mean batch inertia: 0.953949, ewa inertia: 0.953992 \n",
      "Minibatch iteration 32/1000: mean batch inertia: 0.954563, ewa inertia: 0.954106 \n",
      "Minibatch iteration 33/1000: mean batch inertia: 0.956128, ewa inertia: 0.954511 \n",
      "Minibatch iteration 34/1000: mean batch inertia: 0.954653, ewa inertia: 0.954539 \n",
      "Minibatch iteration 35/1000: mean batch inertia: 0.952718, ewa inertia: 0.954175 \n",
      "Minibatch iteration 36/1000: mean batch inertia: 0.953384, ewa inertia: 0.954017 \n",
      "Minibatch iteration 37/1000: mean batch inertia: 0.953852, ewa inertia: 0.953984 \n",
      "Minibatch iteration 38/1000: mean batch inertia: 0.953438, ewa inertia: 0.953875 \n",
      "Minibatch iteration 39/1000: mean batch inertia: 0.953516, ewa inertia: 0.953803 \n",
      "Minibatch iteration 40/1000: mean batch inertia: 0.953881, ewa inertia: 0.953819 \n",
      "Minibatch iteration 41/1000: mean batch inertia: 0.954120, ewa inertia: 0.953879 \n",
      "Minibatch iteration 42/1000: mean batch inertia: 0.953863, ewa inertia: 0.953876 \n",
      "Minibatch iteration 43/1000: mean batch inertia: 0.954336, ewa inertia: 0.953968 \n",
      "Minibatch iteration 44/1000: mean batch inertia: 0.954073, ewa inertia: 0.953989 \n",
      "Minibatch iteration 45/1000: mean batch inertia: 0.953965, ewa inertia: 0.953984 \n",
      "Minibatch iteration 46/1000: mean batch inertia: 0.952801, ewa inertia: 0.953747 \n",
      "Minibatch iteration 47/1000: mean batch inertia: 0.953859, ewa inertia: 0.953770 \n",
      "Minibatch iteration 48/1000: mean batch inertia: 0.953616, ewa inertia: 0.953739 \n",
      "Minibatch iteration 49/1000: mean batch inertia: 0.954455, ewa inertia: 0.953882 \n",
      "Minibatch iteration 50/1000: mean batch inertia: 0.953919, ewa inertia: 0.953890 \n",
      "Minibatch iteration 51/1000: mean batch inertia: 0.954804, ewa inertia: 0.954073 \n",
      "Minibatch iteration 52/1000: mean batch inertia: 0.954456, ewa inertia: 0.954149 \n",
      "Minibatch iteration 53/1000: mean batch inertia: 0.952600, ewa inertia: 0.953839 \n",
      "Minibatch iteration 54/1000: mean batch inertia: 0.954459, ewa inertia: 0.953963 \n",
      "Minibatch iteration 55/1000: mean batch inertia: 0.951740, ewa inertia: 0.953519 \n",
      "Minibatch iteration 56/1000: mean batch inertia: 0.954064, ewa inertia: 0.953628 \n",
      "Minibatch iteration 57/1000: mean batch inertia: 0.954044, ewa inertia: 0.953711 \n",
      "Minibatch iteration 58/1000: mean batch inertia: 0.953467, ewa inertia: 0.953662 \n",
      "Minibatch iteration 59/1000: mean batch inertia: 0.954753, ewa inertia: 0.953880 \n",
      "Minibatch iteration 60/1000: mean batch inertia: 0.953001, ewa inertia: 0.953704 \n",
      "Minibatch iteration 61/1000: mean batch inertia: 0.954527, ewa inertia: 0.953869 \n",
      "Minibatch iteration 62/1000: mean batch inertia: 0.953355, ewa inertia: 0.953766 \n",
      "Minibatch iteration 63/1000: mean batch inertia: 0.953149, ewa inertia: 0.953643 \n",
      "Minibatch iteration 64/1000: mean batch inertia: 0.952851, ewa inertia: 0.953484 \n",
      "Minibatch iteration 65/1000: mean batch inertia: 0.953821, ewa inertia: 0.953552 \n",
      "Minibatch iteration 66/1000: mean batch inertia: 0.952796, ewa inertia: 0.953400 \n",
      "Minibatch iteration 67/1000: mean batch inertia: 0.954790, ewa inertia: 0.953678 \n",
      "Minibatch iteration 68/1000: mean batch inertia: 0.953969, ewa inertia: 0.953737 \n",
      "Minibatch iteration 69/1000: mean batch inertia: 0.953013, ewa inertia: 0.953592 \n",
      "Minibatch iteration 70/1000: mean batch inertia: 0.952198, ewa inertia: 0.953313 \n",
      "Minibatch iteration 71/1000: mean batch inertia: 0.952968, ewa inertia: 0.953244 \n",
      "Minibatch iteration 72/1000: mean batch inertia: 0.952828, ewa inertia: 0.953161 \n",
      "Minibatch iteration 73/1000: mean batch inertia: 0.952280, ewa inertia: 0.952985 \n",
      "Minibatch iteration 74/1000: mean batch inertia: 0.952129, ewa inertia: 0.952813 \n",
      "Minibatch iteration 75/1000: mean batch inertia: 0.953117, ewa inertia: 0.952874 \n",
      "Minibatch iteration 76/1000: mean batch inertia: 0.955177, ewa inertia: 0.953335 \n",
      "Minibatch iteration 77/1000: mean batch inertia: 0.952586, ewa inertia: 0.953185 \n",
      "Minibatch iteration 78/1000: mean batch inertia: 0.953858, ewa inertia: 0.953320 \n",
      "Minibatch iteration 79/1000: mean batch inertia: 0.953320, ewa inertia: 0.953320 \n",
      "Minibatch iteration 80/1000: mean batch inertia: 0.953031, ewa inertia: 0.953262 \n",
      "Minibatch iteration 81/1000: mean batch inertia: 0.953524, ewa inertia: 0.953314 \n",
      "Minibatch iteration 82/1000: mean batch inertia: 0.953030, ewa inertia: 0.953257 \n",
      "Minibatch iteration 83/1000: mean batch inertia: 0.953279, ewa inertia: 0.953262 \n",
      "Minibatch iteration 84/1000: mean batch inertia: 0.952564, ewa inertia: 0.953122 \n",
      "Converged (lack of improvement in inertia) at iteration 84/1000\n",
      "Computing label assignment and total inertia\n",
      "Explained variance of the SVD step: 88%\n",
      "Homogeneity: 0.073\n",
      "Completeness: 0.010\n",
      "V-measure: 0.018\n",
      "Adjusted Rand-Index: -0.005\n",
      "Silhouette Coefficient: 0.004\n",
      "\n"
     ]
    }
   ],
   "source": [
    "start_time = time.time()\n",
    "\n",
    "print('working...')\n",
    "\n",
    "km = MiniBatchKMeans(n_clusters=9, init='k-means++', n_init=1,\n",
    "                         init_size=1000, batch_size=1000, verbose=True)\n",
    "\n",
    "print(\"Clustering sparse data with %s\" % km)\n",
    "km.fit(X)\n",
    "\n",
    "print(\"Explained variance of the SVD step: {}%\".format(int(explained_variance * 100)))\n",
    "\n",
    "print(\"Homogeneity: %0.3f\" % metrics.homogeneity_score(labels, km.labels_))\n",
    "print(\"Completeness: %0.3f\" % metrics.completeness_score(labels, km.labels_))\n",
    "print(\"V-measure: %0.3f\" % metrics.v_measure_score(labels, km.labels_))\n",
    "print(\"Adjusted Rand-Index: %.3f\"\n",
    "      % metrics.adjusted_rand_score(labels, km.labels_))\n",
    "print(\"Silhouette Coefficient: %0.3f\"\n",
    "      % metrics.silhouette_score(X, km.labels_, sample_size=1000))\n",
    "\n",
    "print()"
   ]
  },
  {
   "cell_type": "markdown",
   "metadata": {},
   "source": [
    "### Affinity Propagation <a name=\"aff2\"></a>"
   ]
  },
  {
   "cell_type": "code",
   "execution_count": 264,
   "metadata": {},
   "outputs": [],
   "source": [
    "sns.set_context('poster')\n",
    "sns.set_color_codes()\n",
    "\n",
    "def plot_clusters(data, algorithm, args, kwds):\n",
    "    plot_kwds = {'alpha' : 0.25, 's' : 80, 'linewidths':0}\n",
    "    \n",
    "    start_time = time.time()\n",
    "    labels = algorithm(*args, **kwds).fit_predict(data)\n",
    "    end_time = time.time()\n",
    "    palette = sns.color_palette('deep', np.unique(labels).max() + 1)\n",
    "    colors = [palette[x] if x >= 0 else (0.0, 0.0, 0.0) for x in labels]\n",
    "    plt.scatter(data.T[0], data.T[1], c=colors, **plot_kwds)\n",
    "    frame = plt.gca()\n",
    "    frame.axes.get_xaxis().set_visible(False)\n",
    "    frame.axes.get_yaxis().set_visible(False)\n",
    "    plt.title('Clusters found by {}'.format(str(algorithm.__name__)), fontsize=24)\n",
    "    plt.text(-0.5, 0.7, 'Clustering took {:.2f} s'.format(end_time - start_time), fontsize=12)\n",
    "    \n",
    "    print(\"Silhouette Coefficient: %0.3f\" % metrics.silhouette_score(data, labels, sample_size=1000))\n",
    "    print(\"Calinski-Harabasz Index: %0.3f\" % metrics.calinski_harabasz_score(data, labels))"
   ]
  },
  {
   "cell_type": "code",
   "execution_count": 265,
   "metadata": {},
   "outputs": [
    {
     "name": "stdout",
     "output_type": "stream",
     "text": [
      "Silhouette Coefficient: 0.000\n",
      "Calinski-Harabasz Index: 0.963\n"
     ]
    },
    {
     "data": {
      "image/png": "[encoded data removed]",
      "text/plain": [
       "<Figure size 432x288 with 1 Axes>"
      ]
     },
     "metadata": {
      "needs_background": "light"
     },
     "output_type": "display_data"
    }
   ],
   "source": [
    "plot_clusters(X, AffinityPropagation, (), {'preference':-5.0, 'damping':0.95})"
   ]
  },
  {
   "cell_type": "markdown",
   "metadata": {},
   "source": [
    "### KMeans (k++) <a name=\"knn2\"></a>"
   ]
  },
  {
   "cell_type": "code",
   "execution_count": 267,
   "metadata": {},
   "outputs": [
    {
     "name": "stdout",
     "output_type": "stream",
     "text": [
      "working\n",
      "--- 89.02 seconds ---\n",
      "Silhouette Coefficient: -0.004\n",
      "Calinski-Harabasz Index: 18.076\n"
     ]
    }
   ],
   "source": [
    "start_time = time.time()\n",
    "print('working')\n",
    "\n",
    "num_clusters = 9\n",
    "\n",
    "km = KMeans(n_clusters=num_clusters, max_iter=10000, random_state=42).fit(cv_matrix)\n",
    "labels = km.labels_\n",
    "\n",
    "print(\"--- {} seconds ---\".format(round(time.time() - start_time, 2)))\n",
    "\n",
    "print(\"Silhouette Coefficient: %0.3f\" % metrics.silhouette_score(X, km.labels_, sample_size=1000))\n",
    "print(\"Calinski-Harabasz Index: %0.3f\" % metrics.calinski_harabasz_score(X, km.labels_))"
   ]
  }
 ],
 "metadata": {
  "kernelspec": {
   "display_name": "Python 3",
   "language": "python",
   "name": "python3"
  },
  "language_info": {
   "codemirror_mode": {
    "name": "ipython",
    "version": 3
   },
   "file_extension": ".py",
   "mimetype": "text/x-python",
   "name": "python",
   "nbconvert_exporter": "python",
   "pygments_lexer": "ipython3",
   "version": "3.7.4"
  }
 },
 "nbformat": 4,
 "nbformat_minor": 2
}
